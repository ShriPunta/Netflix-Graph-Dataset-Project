{
  "nbformat": 4,
  "nbformat_minor": 0,
  "metadata": {
    "colab": {
      "name": "ParsingTheCombinedFile.ipynb",
      "version": "0.3.2",
      "views": {},
      "default_view": {},
      "provenance": [],
      "collapsed_sections": []
    },
    "kernelspec": {
      "name": "python3",
      "display_name": "Python 3"
    },
    "accelerator": "GPU"
  },
  "cells": [
    {
      "metadata": {
        "id": "MfY3KTxwcuzj",
        "colab_type": "code",
        "colab": {
          "autoexec": {
            "startup": false,
            "wait_interval": 0
          }
        }
      },
      "cell_type": "code",
      "source": [
        "!pip install -U -q PyDrive\n"
      ],
      "execution_count": 0,
      "outputs": []
    },
    {
      "metadata": {
        "id": "F5hsv8FRc6yo",
        "colab_type": "text"
      },
      "cell_type": "markdown",
      "source": [
        "**Setup all the Authentication for PyDrive**"
      ]
    },
    {
      "metadata": {
        "id": "se2OMKeGcyTB",
        "colab_type": "code",
        "colab": {
          "autoexec": {
            "startup": false,
            "wait_interval": 0
          }
        }
      },
      "cell_type": "code",
      "source": [
        "import pandas as pd\n",
        "from pydrive.auth import GoogleAuth\n",
        "from pydrive.drive import GoogleDrive\n",
        "from google.colab import auth\n",
        "from oauth2client.client import GoogleCredentials\n",
        "import io\n",
        "from googleapiclient.http import MediaIoBaseDownload\n",
        "from googleapiclient.discovery import build\n"
      ],
      "execution_count": 0,
      "outputs": []
    },
    {
      "metadata": {
        "id": "82YemEDEdRGh",
        "colab_type": "code",
        "colab": {
          "autoexec": {
            "startup": false,
            "wait_interval": 0
          }
        }
      },
      "cell_type": "code",
      "source": [
        "# 1. Authenticate and create the PyDrive client.\n",
        "auth.authenticate_user()\n",
        "gauth = GoogleAuth()\n",
        "gauth.credentials = GoogleCredentials.get_application_default()\n",
        "drive = GoogleDrive(gauth)\n"
      ],
      "execution_count": 0,
      "outputs": []
    },
    {
      "metadata": {
        "id": "HoWP4dWD47m3",
        "colab_type": "text"
      },
      "cell_type": "markdown",
      "source": [
        "---"
      ]
    },
    {
      "metadata": {
        "id": "CYp7ZjbubqF2",
        "colab_type": "text"
      },
      "cell_type": "markdown",
      "source": [
        "\n",
        "** *Method*: To read the contents of a local Google File**\n",
        "\n"
      ]
    },
    {
      "metadata": {
        "id": "E2xhw0Cjk1Cs",
        "colab_type": "code",
        "colab": {
          "autoexec": {
            "startup": false,
            "wait_interval": 0
          }
        }
      },
      "cell_type": "code",
      "source": [
        "def read_drive_file_into_variable(file_id_to_read):\n",
        "  drive_service = build('drive', 'v3')\n",
        "  request = drive_service.files().get_media(fileId=file_id_to_read)\n",
        "  downloaded = io.BytesIO()\n",
        "  downloader = MediaIoBaseDownload(downloaded, request)\n",
        "  done = False\n",
        "  while done is False:\n",
        "    # _ is a placeholder for a progress object that we ignore.\n",
        "    # (Our file is small, so we skip reporting progress.)\n",
        "    status, done = downloader.next_chunk()\n",
        "    prog = int(status.progress() * 100)\n",
        "    print(\"Download \"+str(prog))\n",
        "  \n",
        "  #Set the pointer to the start\n",
        "  downloaded.seek(0)\n",
        "  #print('Downloaded file contents are: {}'.format(downloaded.read()))\n",
        "  \n",
        "  #Read Everthing into a variable called \"View\", its in a \"Bytes\" datatype\n",
        "  view = downloaded.read1(-1)\n",
        "  #len(view)\n",
        "  \n",
        "  #decode Bytes to String format\n",
        "  decoded = view.decode(encoding=\"utf-8\")\n",
        "  #type(decoded)\n",
        "  \n",
        "  #Convert this continous string to List for each new line\n",
        "  variable_to_set = decoded.splitlines()\n",
        "  #type(splitted)\n",
        "  \n",
        "  return variable_to_set\n",
        "  \n",
        "  "
      ],
      "execution_count": 0,
      "outputs": []
    },
    {
      "metadata": {
        "id": "Y_NHUDFt5qLm",
        "colab_type": "text"
      },
      "cell_type": "markdown",
      "source": [
        "---"
      ]
    },
    {
      "metadata": {
        "id": "Wde9XWULuQOo",
        "colab_type": "text"
      },
      "cell_type": "markdown",
      "source": [
        "**Read the main two files into variables**"
      ]
    },
    {
      "metadata": {
        "id": "l53Y5UuvlTA0",
        "colab_type": "code",
        "colab": {
          "autoexec": {
            "startup": false,
            "wait_interval": 0
          }
        }
      },
      "cell_type": "code",
      "source": [
        "movie_Title_file_id = '0B8qgJkz0ynl8czBBNG9qZ2JPeW9RaWVuZktobUE1b29qaER3'\n",
        "rating_file_id = '1iABtudmoCPxcFYiYQ0cQwfcQCZtfHsHd'\n",
        "test_file_id = '11QhP0HwV7x6huJX3-JqJzGv7shMiZVPH'"
      ],
      "execution_count": 0,
      "outputs": []
    },
    {
      "metadata": {
        "id": "hauotqIq69LL",
        "colab_type": "code",
        "colab": {
          "autoexec": {
            "startup": false,
            "wait_interval": 0
          },
          "base_uri": "https://localhost:8080/",
          "height": 34
        },
        "outputId": "2da2b62c-a695-4c83-e53c-e32b6613c40a",
        "executionInfo": {
          "status": "ok",
          "timestamp": 1524628990287,
          "user_tz": 420,
          "elapsed": 878,
          "user": {
            "displayName": "Shridhar Puntambekar",
            "photoUrl": "//lh3.googleusercontent.com/-sAYH4--pR8c/AAAAAAAAAAI/AAAAAAAAAGE/I8U1zGq0AXs/s50-c-k-no/photo.jpg",
            "userId": "113479460052019485165"
          }
        }
      },
      "cell_type": "code",
      "source": [
        "key_file_list = read_drive_file_into_variable(movie_Title_file_id)\n"
      ],
      "execution_count": 6,
      "outputs": [
        {
          "output_type": "stream",
          "text": [
            "Download 100\n"
          ],
          "name": "stdout"
        }
      ]
    },
    {
      "metadata": {
        "id": "fwZbBuv66-Y6",
        "colab_type": "code",
        "colab": {
          "autoexec": {
            "startup": false,
            "wait_interval": 0
          }
        }
      },
      "cell_type": "code",
      "source": [
        "#rating_file_list = read_drive_file_into_variable(rating_file_id)"
      ],
      "execution_count": 0,
      "outputs": []
    },
    {
      "metadata": {
        "id": "VBfmPUyH7xn8",
        "colab_type": "code",
        "colab": {
          "autoexec": {
            "startup": false,
            "wait_interval": 0
          },
          "base_uri": "https://localhost:8080/",
          "height": 34
        },
        "outputId": "d77a74f4-bb21-4419-ea5b-adb6a9b1525d",
        "executionInfo": {
          "status": "ok",
          "timestamp": 1524628992184,
          "user_tz": 420,
          "elapsed": 689,
          "user": {
            "displayName": "Shridhar Puntambekar",
            "photoUrl": "//lh3.googleusercontent.com/-sAYH4--pR8c/AAAAAAAAAAI/AAAAAAAAAGE/I8U1zGq0AXs/s50-c-k-no/photo.jpg",
            "userId": "113479460052019485165"
          }
        }
      },
      "cell_type": "code",
      "source": [
        "test_file_list = read_drive_file_into_variable(test_file_id)"
      ],
      "execution_count": 8,
      "outputs": [
        {
          "output_type": "stream",
          "text": [
            "Download 100\n"
          ],
          "name": "stdout"
        }
      ]
    },
    {
      "metadata": {
        "id": "PLPYJKQ-4_ba",
        "colab_type": "text"
      },
      "cell_type": "markdown",
      "source": [
        "---"
      ]
    },
    {
      "metadata": {
        "id": "BO6_CVlAmsgT",
        "colab_type": "text"
      },
      "cell_type": "markdown",
      "source": [
        "**Convert the key file into a dataframe**"
      ]
    },
    {
      "metadata": {
        "id": "E-EXS8ZvduXq",
        "colab_type": "code",
        "colab": {
          "autoexec": {
            "startup": false,
            "wait_interval": 0
          },
          "base_uri": "https://localhost:8080/",
          "height": 195
        },
        "outputId": "bf51d4c0-fb24-4ae7-e494-a2fb05648478",
        "executionInfo": {
          "status": "ok",
          "timestamp": 1524628993010,
          "user_tz": 420,
          "elapsed": 467,
          "user": {
            "displayName": "Shridhar Puntambekar",
            "photoUrl": "//lh3.googleusercontent.com/-sAYH4--pR8c/AAAAAAAAAAI/AAAAAAAAAGE/I8U1zGq0AXs/s50-c-k-no/photo.jpg",
            "userId": "113479460052019485165"
          }
        }
      },
      "cell_type": "code",
      "source": [
        "#Read the key file into a Panda dataframe\n",
        "key_file_df = pd.DataFrame([sub.split(\",\") for sub in key_file_list],columns = [\"MovieId\",\"Year\",\"Name\",\"Genre1\",\"Genre2\",\"Genre3\"])\n",
        "key_file_df.head()"
      ],
      "execution_count": 9,
      "outputs": [
        {
          "output_type": "execute_result",
          "data": {
            "text/html": [
              "<div>\n",
              "<style scoped>\n",
              "    .dataframe tbody tr th:only-of-type {\n",
              "        vertical-align: middle;\n",
              "    }\n",
              "\n",
              "    .dataframe tbody tr th {\n",
              "        vertical-align: top;\n",
              "    }\n",
              "\n",
              "    .dataframe thead th {\n",
              "        text-align: right;\n",
              "    }\n",
              "</style>\n",
              "<table border=\"1\" class=\"dataframe\">\n",
              "  <thead>\n",
              "    <tr style=\"text-align: right;\">\n",
              "      <th></th>\n",
              "      <th>MovieId</th>\n",
              "      <th>Year</th>\n",
              "      <th>Name</th>\n",
              "      <th>Genre1</th>\n",
              "      <th>Genre2</th>\n",
              "      <th>Genre3</th>\n",
              "    </tr>\n",
              "  </thead>\n",
              "  <tbody>\n",
              "    <tr>\n",
              "      <th>0</th>\n",
              "      <td>1</td>\n",
              "      <td>2003</td>\n",
              "      <td>Dinosaur Planet</td>\n",
              "      <td>\"Animation</td>\n",
              "      <td>Documentary</td>\n",
              "      <td>Family\"</td>\n",
              "    </tr>\n",
              "    <tr>\n",
              "      <th>1</th>\n",
              "      <td>3</td>\n",
              "      <td>1997</td>\n",
              "      <td>Character</td>\n",
              "      <td>\"Crime</td>\n",
              "      <td>Drama</td>\n",
              "      <td>Mystery\"</td>\n",
              "    </tr>\n",
              "    <tr>\n",
              "      <th>2</th>\n",
              "      <td>6</td>\n",
              "      <td>1997</td>\n",
              "      <td>Sick</td>\n",
              "      <td>Drama</td>\n",
              "      <td>None</td>\n",
              "      <td>None</td>\n",
              "    </tr>\n",
              "    <tr>\n",
              "      <th>3</th>\n",
              "      <td>7</td>\n",
              "      <td>1992</td>\n",
              "      <td>8 Man</td>\n",
              "      <td>\"Action</td>\n",
              "      <td>Sci-Fi\"</td>\n",
              "      <td>None</td>\n",
              "    </tr>\n",
              "    <tr>\n",
              "      <th>4</th>\n",
              "      <td>10</td>\n",
              "      <td>2001</td>\n",
              "      <td>Fighter</td>\n",
              "      <td>Documentary</td>\n",
              "      <td>None</td>\n",
              "      <td>None</td>\n",
              "    </tr>\n",
              "  </tbody>\n",
              "</table>\n",
              "</div>"
            ],
            "text/plain": [
              "  MovieId  Year             Name       Genre1       Genre2    Genre3\n",
              "0       1  2003  Dinosaur Planet   \"Animation  Documentary   Family\"\n",
              "1       3  1997        Character       \"Crime        Drama  Mystery\"\n",
              "2       6  1997             Sick        Drama         None      None\n",
              "3       7  1992            8 Man      \"Action      Sci-Fi\"      None\n",
              "4      10  2001          Fighter  Documentary         None      None"
            ]
          },
          "metadata": {
            "tags": []
          },
          "execution_count": 9
        }
      ]
    },
    {
      "metadata": {
        "id": "K8QVL-b855fy",
        "colab_type": "text"
      },
      "cell_type": "markdown",
      "source": [
        "**Clean the dataframe**"
      ]
    },
    {
      "metadata": {
        "id": "My_tjoVRm3nJ",
        "colab_type": "code",
        "colab": {
          "autoexec": {
            "startup": false,
            "wait_interval": 0
          },
          "base_uri": "https://localhost:8080/",
          "height": 225
        },
        "outputId": "7d3eb012-c497-4d4c-eea3-dde2872f3766",
        "executionInfo": {
          "status": "ok",
          "timestamp": 1524628993842,
          "user_tz": 420,
          "elapsed": 495,
          "user": {
            "displayName": "Shridhar Puntambekar",
            "photoUrl": "//lh3.googleusercontent.com/-sAYH4--pR8c/AAAAAAAAAAI/AAAAAAAAAGE/I8U1zGq0AXs/s50-c-k-no/photo.jpg",
            "userId": "113479460052019485165"
          }
        }
      },
      "cell_type": "code",
      "source": [
        "# key_file_df['Genre'] = key_file_df[['Genre1','Genre2','Genre3']].apply(lambda x: ''.join(x), axis=1)\n",
        "# key_file_df.head()\n",
        "#Combine the Genres into a single column\n",
        "\n",
        "key_file_df['Genre'] = key_file_df['Genre1'] + ',' + key_file_df['Genre2'] + ','+ key_file_df['Genre3']\n",
        "\n",
        "#Clean the column by removing double quotes\n",
        "for i, col in enumerate(key_file_df.columns):\n",
        "    key_file_df.iloc[:,6] = key_file_df.iloc[:,6].str.replace('\"', '')\n",
        "    \n",
        "#Drop the unnecessary columns\n",
        "key_file_df.drop(['Genre1','Genre2','Genre3'], axis=1, inplace=True)\n",
        "\n",
        "#Set MovieId as the Index\n",
        "key_file_df.set_index('MovieId',inplace=True)\n",
        "\n",
        "key_file_df.head()\n"
      ],
      "execution_count": 10,
      "outputs": [
        {
          "output_type": "execute_result",
          "data": {
            "text/html": [
              "<div>\n",
              "<style scoped>\n",
              "    .dataframe tbody tr th:only-of-type {\n",
              "        vertical-align: middle;\n",
              "    }\n",
              "\n",
              "    .dataframe tbody tr th {\n",
              "        vertical-align: top;\n",
              "    }\n",
              "\n",
              "    .dataframe thead th {\n",
              "        text-align: right;\n",
              "    }\n",
              "</style>\n",
              "<table border=\"1\" class=\"dataframe\">\n",
              "  <thead>\n",
              "    <tr style=\"text-align: right;\">\n",
              "      <th></th>\n",
              "      <th>Year</th>\n",
              "      <th>Name</th>\n",
              "      <th>Genre</th>\n",
              "    </tr>\n",
              "    <tr>\n",
              "      <th>MovieId</th>\n",
              "      <th></th>\n",
              "      <th></th>\n",
              "      <th></th>\n",
              "    </tr>\n",
              "  </thead>\n",
              "  <tbody>\n",
              "    <tr>\n",
              "      <th>1</th>\n",
              "      <td>2003</td>\n",
              "      <td>Dinosaur Planet</td>\n",
              "      <td>Animation,Documentary,Family</td>\n",
              "    </tr>\n",
              "    <tr>\n",
              "      <th>3</th>\n",
              "      <td>1997</td>\n",
              "      <td>Character</td>\n",
              "      <td>Crime,Drama,Mystery</td>\n",
              "    </tr>\n",
              "    <tr>\n",
              "      <th>6</th>\n",
              "      <td>1997</td>\n",
              "      <td>Sick</td>\n",
              "      <td>NaN</td>\n",
              "    </tr>\n",
              "    <tr>\n",
              "      <th>7</th>\n",
              "      <td>1992</td>\n",
              "      <td>8 Man</td>\n",
              "      <td>NaN</td>\n",
              "    </tr>\n",
              "    <tr>\n",
              "      <th>10</th>\n",
              "      <td>2001</td>\n",
              "      <td>Fighter</td>\n",
              "      <td>NaN</td>\n",
              "    </tr>\n",
              "  </tbody>\n",
              "</table>\n",
              "</div>"
            ],
            "text/plain": [
              "         Year             Name                         Genre\n",
              "MovieId                                                     \n",
              "1        2003  Dinosaur Planet  Animation,Documentary,Family\n",
              "3        1997        Character           Crime,Drama,Mystery\n",
              "6        1997             Sick                           NaN\n",
              "7        1992            8 Man                           NaN\n",
              "10       2001          Fighter                           NaN"
            ]
          },
          "metadata": {
            "tags": []
          },
          "execution_count": 10
        }
      ]
    },
    {
      "metadata": {
        "id": "opsRfxs151Ca",
        "colab_type": "text"
      },
      "cell_type": "markdown",
      "source": [
        "---"
      ]
    },
    {
      "metadata": {
        "id": "iwy5JBQSyn5k",
        "colab_type": "text"
      },
      "cell_type": "markdown",
      "source": [
        "**Convert rating File into dataframe**"
      ]
    },
    {
      "metadata": {
        "id": "d2WdF9TVy4XB",
        "colab_type": "code",
        "colab": {
          "autoexec": {
            "startup": false,
            "wait_interval": 0
          }
        }
      },
      "cell_type": "code",
      "source": [
        "#Read the key file into a Panda dataframe\n",
        "test_file_df = pd.DataFrame([sub.split(\",\") for sub in test_file_list],columns = [\"UserId\",\"Rating\",\"DateWatched\"])\n",
        "\n",
        "#Initialize a blank column called MovieId ; to be filled latter\n",
        "test_file_df[\"MovieId\"] = ''\n",
        "\n",
        "test_file_df.head()\n"
      ],
      "execution_count": 0,
      "outputs": []
    },
    {
      "metadata": {
        "id": "wfrIWbVNFPr_",
        "colab_type": "text"
      },
      "cell_type": "markdown",
      "source": [
        "---"
      ]
    },
    {
      "metadata": {
        "id": "fNaA0ToZ8qjC",
        "colab_type": "code",
        "colab": {
          "autoexec": {
            "startup": false,
            "wait_interval": 0
          }
        }
      },
      "cell_type": "code",
      "source": [
        "#We will store the rows to drop in this\n",
        "rows_to_drop = []\n",
        "currentMovieId = 0\n",
        "\n",
        "#Iterate over the dataframe to split it\n",
        "for index, row in test_file_df.iterrows():\n",
        "  if row['UserId'].find(':') != -1:\n",
        "    #If entered it means that there is a colon on the row and it is a movie id\n",
        "    #row[0][0] gives the first character on that row\n",
        "    currentMovieId = int(row[0][0])\n",
        "    rows_to_drop.append(index)\n",
        "  else:\n",
        "    #print(\"Not\")\n",
        "    #Assign the movie id to the consecutive rows\n",
        "    test_file_df.iloc[index][3] = currentMovieId"
      ],
      "execution_count": 0,
      "outputs": []
    },
    {
      "metadata": {
        "id": "LjGeWxPA8qlX",
        "colab_type": "code",
        "colab": {
          "autoexec": {
            "startup": false,
            "wait_interval": 0
          },
          "base_uri": "https://localhost:8080/",
          "height": 491
        },
        "outputId": "a016d37d-700b-403e-b15a-1784cdf7523b",
        "executionInfo": {
          "status": "ok",
          "timestamp": 1524630587482,
          "user_tz": 420,
          "elapsed": 370,
          "user": {
            "displayName": "Shridhar Puntambekar",
            "photoUrl": "//lh3.googleusercontent.com/-sAYH4--pR8c/AAAAAAAAAAI/AAAAAAAAAGE/I8U1zGq0AXs/s50-c-k-no/photo.jpg",
            "userId": "113479460052019485165"
          }
        }
      },
      "cell_type": "code",
      "source": [
        "#We get a dataframe with the movie id generated, now we need to filter out the rows\n",
        "test_file_df.head()"
      ],
      "execution_count": 34,
      "outputs": [
        {
          "output_type": "execute_result",
          "data": {
            "text/html": [
              "<div>\n",
              "<style scoped>\n",
              "    .dataframe tbody tr th:only-of-type {\n",
              "        vertical-align: middle;\n",
              "    }\n",
              "\n",
              "    .dataframe tbody tr th {\n",
              "        vertical-align: top;\n",
              "    }\n",
              "\n",
              "    .dataframe thead th {\n",
              "        text-align: right;\n",
              "    }\n",
              "</style>\n",
              "<table border=\"1\" class=\"dataframe\">\n",
              "  <thead>\n",
              "    <tr style=\"text-align: right;\">\n",
              "      <th></th>\n",
              "      <th>UserId</th>\n",
              "      <th>Rating</th>\n",
              "      <th>DateWatched</th>\n",
              "      <th>MovieId</th>\n",
              "    </tr>\n",
              "  </thead>\n",
              "  <tbody>\n",
              "    <tr>\n",
              "      <th>0</th>\n",
              "      <td>1:</td>\n",
              "      <td>None</td>\n",
              "      <td>None</td>\n",
              "      <td></td>\n",
              "    </tr>\n",
              "    <tr>\n",
              "      <th>1</th>\n",
              "      <td>1488844</td>\n",
              "      <td>3</td>\n",
              "      <td>2005-09-06</td>\n",
              "      <td>1</td>\n",
              "    </tr>\n",
              "    <tr>\n",
              "      <th>2</th>\n",
              "      <td>822109</td>\n",
              "      <td>5</td>\n",
              "      <td>2005-05-13</td>\n",
              "      <td>1</td>\n",
              "    </tr>\n",
              "    <tr>\n",
              "      <th>3</th>\n",
              "      <td>885013</td>\n",
              "      <td>4</td>\n",
              "      <td>2005-10-19</td>\n",
              "      <td>1</td>\n",
              "    </tr>\n",
              "    <tr>\n",
              "      <th>4</th>\n",
              "      <td>30878</td>\n",
              "      <td>4</td>\n",
              "      <td>2005-12-26</td>\n",
              "      <td>1</td>\n",
              "    </tr>\n",
              "    <tr>\n",
              "      <th>5</th>\n",
              "      <td>2:</td>\n",
              "      <td>None</td>\n",
              "      <td>None</td>\n",
              "      <td></td>\n",
              "    </tr>\n",
              "    <tr>\n",
              "      <th>6</th>\n",
              "      <td>1488844</td>\n",
              "      <td>3</td>\n",
              "      <td>2005-09-06</td>\n",
              "      <td>2</td>\n",
              "    </tr>\n",
              "    <tr>\n",
              "      <th>7</th>\n",
              "      <td>822109</td>\n",
              "      <td>5</td>\n",
              "      <td>2005-05-13</td>\n",
              "      <td>2</td>\n",
              "    </tr>\n",
              "    <tr>\n",
              "      <th>8</th>\n",
              "      <td>885013</td>\n",
              "      <td>4</td>\n",
              "      <td>2005-10-19</td>\n",
              "      <td>2</td>\n",
              "    </tr>\n",
              "    <tr>\n",
              "      <th>9</th>\n",
              "      <td>30878</td>\n",
              "      <td>4</td>\n",
              "      <td>2005-12-26</td>\n",
              "      <td>2</td>\n",
              "    </tr>\n",
              "    <tr>\n",
              "      <th>10</th>\n",
              "      <td>3:</td>\n",
              "      <td>None</td>\n",
              "      <td>None</td>\n",
              "      <td></td>\n",
              "    </tr>\n",
              "    <tr>\n",
              "      <th>11</th>\n",
              "      <td>1488844</td>\n",
              "      <td>3</td>\n",
              "      <td>2005-09-06</td>\n",
              "      <td>3</td>\n",
              "    </tr>\n",
              "    <tr>\n",
              "      <th>12</th>\n",
              "      <td>822109</td>\n",
              "      <td>5</td>\n",
              "      <td>2005-05-13</td>\n",
              "      <td>3</td>\n",
              "    </tr>\n",
              "    <tr>\n",
              "      <th>13</th>\n",
              "      <td>885013</td>\n",
              "      <td>4</td>\n",
              "      <td>2005-10-19</td>\n",
              "      <td>3</td>\n",
              "    </tr>\n",
              "    <tr>\n",
              "      <th>14</th>\n",
              "      <td>30878</td>\n",
              "      <td>4</td>\n",
              "      <td>2005-12-26</td>\n",
              "      <td>3</td>\n",
              "    </tr>\n",
              "  </tbody>\n",
              "</table>\n",
              "</div>"
            ],
            "text/plain": [
              "     UserId Rating DateWatched MovieId\n",
              "0        1:   None        None        \n",
              "1   1488844      3  2005-09-06       1\n",
              "2    822109      5  2005-05-13       1\n",
              "3    885013      4  2005-10-19       1\n",
              "4     30878      4  2005-12-26       1\n",
              "5        2:   None        None        \n",
              "6   1488844      3  2005-09-06       2\n",
              "7    822109      5  2005-05-13       2\n",
              "8    885013      4  2005-10-19       2\n",
              "9     30878      4  2005-12-26       2\n",
              "10       3:   None        None        \n",
              "11  1488844      3  2005-09-06       3\n",
              "12   822109      5  2005-05-13       3\n",
              "13   885013      4  2005-10-19       3\n",
              "14    30878      4  2005-12-26       3"
            ]
          },
          "metadata": {
            "tags": []
          },
          "execution_count": 34
        }
      ]
    },
    {
      "metadata": {
        "id": "mtXOt8a08qpw",
        "colab_type": "code",
        "colab": {
          "autoexec": {
            "startup": false,
            "wait_interval": 0
          },
          "base_uri": "https://localhost:8080/",
          "height": 403
        },
        "outputId": "33d95e97-4218-407f-fa02-66f2917531a1",
        "executionInfo": {
          "status": "ok",
          "timestamp": 1524630850034,
          "user_tz": 420,
          "elapsed": 393,
          "user": {
            "displayName": "Shridhar Puntambekar",
            "photoUrl": "//lh3.googleusercontent.com/-sAYH4--pR8c/AAAAAAAAAAI/AAAAAAAAAGE/I8U1zGq0AXs/s50-c-k-no/photo.jpg",
            "userId": "113479460052019485165"
          }
        }
      },
      "cell_type": "code",
      "source": [
        "#Drop the rows which had the movie Id and the columns to get a seamless dataframe\n",
        "test_file_df.drop(test_file_df.index[rows_to_drop],inplace=True)\n",
        "test_file_df.head()"
      ],
      "execution_count": 40,
      "outputs": [
        {
          "output_type": "execute_result",
          "data": {
            "text/html": [
              "<div>\n",
              "<style scoped>\n",
              "    .dataframe tbody tr th:only-of-type {\n",
              "        vertical-align: middle;\n",
              "    }\n",
              "\n",
              "    .dataframe tbody tr th {\n",
              "        vertical-align: top;\n",
              "    }\n",
              "\n",
              "    .dataframe thead th {\n",
              "        text-align: right;\n",
              "    }\n",
              "</style>\n",
              "<table border=\"1\" class=\"dataframe\">\n",
              "  <thead>\n",
              "    <tr style=\"text-align: right;\">\n",
              "      <th></th>\n",
              "      <th>UserId</th>\n",
              "      <th>Rating</th>\n",
              "      <th>DateWatched</th>\n",
              "      <th>MovieId</th>\n",
              "    </tr>\n",
              "  </thead>\n",
              "  <tbody>\n",
              "    <tr>\n",
              "      <th>1</th>\n",
              "      <td>1488844</td>\n",
              "      <td>3</td>\n",
              "      <td>2005-09-06</td>\n",
              "      <td>1</td>\n",
              "    </tr>\n",
              "    <tr>\n",
              "      <th>2</th>\n",
              "      <td>822109</td>\n",
              "      <td>5</td>\n",
              "      <td>2005-05-13</td>\n",
              "      <td>1</td>\n",
              "    </tr>\n",
              "    <tr>\n",
              "      <th>3</th>\n",
              "      <td>885013</td>\n",
              "      <td>4</td>\n",
              "      <td>2005-10-19</td>\n",
              "      <td>1</td>\n",
              "    </tr>\n",
              "    <tr>\n",
              "      <th>4</th>\n",
              "      <td>30878</td>\n",
              "      <td>4</td>\n",
              "      <td>2005-12-26</td>\n",
              "      <td>1</td>\n",
              "    </tr>\n",
              "    <tr>\n",
              "      <th>6</th>\n",
              "      <td>1488844</td>\n",
              "      <td>3</td>\n",
              "      <td>2005-09-06</td>\n",
              "      <td>2</td>\n",
              "    </tr>\n",
              "    <tr>\n",
              "      <th>7</th>\n",
              "      <td>822109</td>\n",
              "      <td>5</td>\n",
              "      <td>2005-05-13</td>\n",
              "      <td>2</td>\n",
              "    </tr>\n",
              "    <tr>\n",
              "      <th>8</th>\n",
              "      <td>885013</td>\n",
              "      <td>4</td>\n",
              "      <td>2005-10-19</td>\n",
              "      <td>2</td>\n",
              "    </tr>\n",
              "    <tr>\n",
              "      <th>9</th>\n",
              "      <td>30878</td>\n",
              "      <td>4</td>\n",
              "      <td>2005-12-26</td>\n",
              "      <td>2</td>\n",
              "    </tr>\n",
              "    <tr>\n",
              "      <th>11</th>\n",
              "      <td>1488844</td>\n",
              "      <td>3</td>\n",
              "      <td>2005-09-06</td>\n",
              "      <td>3</td>\n",
              "    </tr>\n",
              "    <tr>\n",
              "      <th>12</th>\n",
              "      <td>822109</td>\n",
              "      <td>5</td>\n",
              "      <td>2005-05-13</td>\n",
              "      <td>3</td>\n",
              "    </tr>\n",
              "    <tr>\n",
              "      <th>13</th>\n",
              "      <td>885013</td>\n",
              "      <td>4</td>\n",
              "      <td>2005-10-19</td>\n",
              "      <td>3</td>\n",
              "    </tr>\n",
              "    <tr>\n",
              "      <th>14</th>\n",
              "      <td>30878</td>\n",
              "      <td>4</td>\n",
              "      <td>2005-12-26</td>\n",
              "      <td>3</td>\n",
              "    </tr>\n",
              "  </tbody>\n",
              "</table>\n",
              "</div>"
            ],
            "text/plain": [
              "     UserId Rating DateWatched MovieId\n",
              "1   1488844      3  2005-09-06       1\n",
              "2    822109      5  2005-05-13       1\n",
              "3    885013      4  2005-10-19       1\n",
              "4     30878      4  2005-12-26       1\n",
              "6   1488844      3  2005-09-06       2\n",
              "7    822109      5  2005-05-13       2\n",
              "8    885013      4  2005-10-19       2\n",
              "9     30878      4  2005-12-26       2\n",
              "11  1488844      3  2005-09-06       3\n",
              "12   822109      5  2005-05-13       3\n",
              "13   885013      4  2005-10-19       3\n",
              "14    30878      4  2005-12-26       3"
            ]
          },
          "metadata": {
            "tags": []
          },
          "execution_count": 40
        }
      ]
    },
    {
      "metadata": {
        "id": "rlcr1aui8qr2",
        "colab_type": "code",
        "colab": {
          "autoexec": {
            "startup": false,
            "wait_interval": 0
          }
        }
      },
      "cell_type": "code",
      "source": [
        "#Convert the column to datetime and keep only the year\n",
        "test_file_df['YearWatched'] = pd.to_datetime(test_file_df['DateWatched']).dt.year"
      ],
      "execution_count": 0,
      "outputs": []
    },
    {
      "metadata": {
        "id": "x-ccUk9z8quD",
        "colab_type": "code",
        "colab": {
          "autoexec": {
            "startup": false,
            "wait_interval": 0
          },
          "base_uri": "https://localhost:8080/",
          "height": 403
        },
        "outputId": "36e1eb1e-a8a6-4e11-829f-d4745d171661",
        "executionInfo": {
          "status": "ok",
          "timestamp": 1524631408592,
          "user_tz": 420,
          "elapsed": 369,
          "user": {
            "displayName": "Shridhar Puntambekar",
            "photoUrl": "//lh3.googleusercontent.com/-sAYH4--pR8c/AAAAAAAAAAI/AAAAAAAAAGE/I8U1zGq0AXs/s50-c-k-no/photo.jpg",
            "userId": "113479460052019485165"
          }
        }
      },
      "cell_type": "code",
      "source": [
        "test_file_df"
      ],
      "execution_count": 45,
      "outputs": [
        {
          "output_type": "execute_result",
          "data": {
            "text/html": [
              "<div>\n",
              "<style scoped>\n",
              "    .dataframe tbody tr th:only-of-type {\n",
              "        vertical-align: middle;\n",
              "    }\n",
              "\n",
              "    .dataframe tbody tr th {\n",
              "        vertical-align: top;\n",
              "    }\n",
              "\n",
              "    .dataframe thead th {\n",
              "        text-align: right;\n",
              "    }\n",
              "</style>\n",
              "<table border=\"1\" class=\"dataframe\">\n",
              "  <thead>\n",
              "    <tr style=\"text-align: right;\">\n",
              "      <th></th>\n",
              "      <th>UserId</th>\n",
              "      <th>Rating</th>\n",
              "      <th>DateWatched</th>\n",
              "      <th>MovieId</th>\n",
              "      <th>YearWatched</th>\n",
              "    </tr>\n",
              "  </thead>\n",
              "  <tbody>\n",
              "    <tr>\n",
              "      <th>1</th>\n",
              "      <td>1488844</td>\n",
              "      <td>3</td>\n",
              "      <td>2005-09-06</td>\n",
              "      <td>1</td>\n",
              "      <td>2005</td>\n",
              "    </tr>\n",
              "    <tr>\n",
              "      <th>2</th>\n",
              "      <td>822109</td>\n",
              "      <td>5</td>\n",
              "      <td>2005-05-13</td>\n",
              "      <td>1</td>\n",
              "      <td>2005</td>\n",
              "    </tr>\n",
              "    <tr>\n",
              "      <th>3</th>\n",
              "      <td>885013</td>\n",
              "      <td>4</td>\n",
              "      <td>2005-10-19</td>\n",
              "      <td>1</td>\n",
              "      <td>2005</td>\n",
              "    </tr>\n",
              "    <tr>\n",
              "      <th>4</th>\n",
              "      <td>30878</td>\n",
              "      <td>4</td>\n",
              "      <td>2005-12-26</td>\n",
              "      <td>1</td>\n",
              "      <td>2005</td>\n",
              "    </tr>\n",
              "    <tr>\n",
              "      <th>6</th>\n",
              "      <td>1488844</td>\n",
              "      <td>3</td>\n",
              "      <td>2005-09-06</td>\n",
              "      <td>2</td>\n",
              "      <td>2005</td>\n",
              "    </tr>\n",
              "    <tr>\n",
              "      <th>7</th>\n",
              "      <td>822109</td>\n",
              "      <td>5</td>\n",
              "      <td>2005-05-13</td>\n",
              "      <td>2</td>\n",
              "      <td>2005</td>\n",
              "    </tr>\n",
              "    <tr>\n",
              "      <th>8</th>\n",
              "      <td>885013</td>\n",
              "      <td>4</td>\n",
              "      <td>2005-10-19</td>\n",
              "      <td>2</td>\n",
              "      <td>2005</td>\n",
              "    </tr>\n",
              "    <tr>\n",
              "      <th>9</th>\n",
              "      <td>30878</td>\n",
              "      <td>4</td>\n",
              "      <td>2005-12-26</td>\n",
              "      <td>2</td>\n",
              "      <td>2005</td>\n",
              "    </tr>\n",
              "    <tr>\n",
              "      <th>11</th>\n",
              "      <td>1488844</td>\n",
              "      <td>3</td>\n",
              "      <td>2005-09-06</td>\n",
              "      <td>3</td>\n",
              "      <td>2005</td>\n",
              "    </tr>\n",
              "    <tr>\n",
              "      <th>12</th>\n",
              "      <td>822109</td>\n",
              "      <td>5</td>\n",
              "      <td>2005-05-13</td>\n",
              "      <td>3</td>\n",
              "      <td>2005</td>\n",
              "    </tr>\n",
              "    <tr>\n",
              "      <th>13</th>\n",
              "      <td>885013</td>\n",
              "      <td>4</td>\n",
              "      <td>2005-10-19</td>\n",
              "      <td>3</td>\n",
              "      <td>2005</td>\n",
              "    </tr>\n",
              "    <tr>\n",
              "      <th>14</th>\n",
              "      <td>30878</td>\n",
              "      <td>4</td>\n",
              "      <td>2005-12-26</td>\n",
              "      <td>3</td>\n",
              "      <td>2005</td>\n",
              "    </tr>\n",
              "  </tbody>\n",
              "</table>\n",
              "</div>"
            ],
            "text/plain": [
              "     UserId Rating DateWatched MovieId  YearWatched\n",
              "1   1488844      3  2005-09-06       1         2005\n",
              "2    822109      5  2005-05-13       1         2005\n",
              "3    885013      4  2005-10-19       1         2005\n",
              "4     30878      4  2005-12-26       1         2005\n",
              "6   1488844      3  2005-09-06       2         2005\n",
              "7    822109      5  2005-05-13       2         2005\n",
              "8    885013      4  2005-10-19       2         2005\n",
              "9     30878      4  2005-12-26       2         2005\n",
              "11  1488844      3  2005-09-06       3         2005\n",
              "12   822109      5  2005-05-13       3         2005\n",
              "13   885013      4  2005-10-19       3         2005\n",
              "14    30878      4  2005-12-26       3         2005"
            ]
          },
          "metadata": {
            "tags": []
          },
          "execution_count": 45
        }
      ]
    },
    {
      "metadata": {
        "id": "qoKX5uaD8qwQ",
        "colab_type": "code",
        "colab": {
          "autoexec": {
            "startup": false,
            "wait_interval": 0
          }
        }
      },
      "cell_type": "code",
      "source": [
        ""
      ],
      "execution_count": 0,
      "outputs": []
    },
    {
      "metadata": {
        "id": "dmG_Pecy8qyQ",
        "colab_type": "code",
        "colab": {
          "autoexec": {
            "startup": false,
            "wait_interval": 0
          }
        }
      },
      "cell_type": "code",
      "source": [
        ""
      ],
      "execution_count": 0,
      "outputs": []
    },
    {
      "metadata": {
        "id": "CqqdGAhy8q0c",
        "colab_type": "code",
        "colab": {
          "autoexec": {
            "startup": false,
            "wait_interval": 0
          }
        }
      },
      "cell_type": "code",
      "source": [
        ""
      ],
      "execution_count": 0,
      "outputs": []
    },
    {
      "metadata": {
        "id": "nM4AsBNy6dM9",
        "colab_type": "text"
      },
      "cell_type": "markdown",
      "source": [
        "---\n",
        " ** *Method*: To see the GPU usage**"
      ]
    },
    {
      "metadata": {
        "id": "KEGfc73g0Zb0",
        "colab_type": "code",
        "colab": {
          "autoexec": {
            "startup": false,
            "wait_interval": 0
          }
        }
      },
      "cell_type": "code",
      "source": [
        "def checkGPU():\n",
        "  # memory footprint support libraries/code\n",
        "  !ln -sf /opt/bin/nvidia-smi /usr/bin/nvidia-smi\n",
        "  !pip install gputil\n",
        "  !pip install psutil\n",
        "  !pip install humanize\n",
        "  import psutil\n",
        "  import humanize\n",
        "  import os\n",
        "  import GPUtil as GPU\n",
        "  GPUs = GPU.getGPUs()\n",
        "  # XXX: only one GPU on Colab and isn’t guaranteed\n",
        "  gpu = GPUs[0]\n",
        "  process = psutil.Process(os.getpid())\n",
        "  print(\"Gen RAM Free: \" + humanize.naturalsize( psutil.virtual_memory().available ), \" I Proc size: \" + humanize.naturalsize( process.memory_info().rss))\n",
        "  print(\"GPU RAM Free: {0:.0f}MB | Used: {1:.0f}MB | Util {2:3.0f}% | Total {3:.0f}MB\".format(gpu.memoryFree, gpu.memoryUsed, gpu.memoryUtil*100, gpu.memoryTotal))\n",
        "  \n"
      ],
      "execution_count": 0,
      "outputs": []
    },
    {
      "metadata": {
        "id": "7x3m84Vo6eyl",
        "colab_type": "text"
      },
      "cell_type": "markdown",
      "source": [
        "---"
      ]
    },
    {
      "metadata": {
        "id": "CF668Mtx6hVz",
        "colab_type": "code",
        "colab": {
          "autoexec": {
            "startup": false,
            "wait_interval": 0
          },
          "base_uri": "https://localhost:8080/",
          "height": 219
        },
        "outputId": "fc08737e-2b3f-4476-baa5-3189e9e7b4e7",
        "executionInfo": {
          "status": "ok",
          "timestamp": 1524629010260,
          "user_tz": 420,
          "elapsed": 6787,
          "user": {
            "displayName": "Shridhar Puntambekar",
            "photoUrl": "//lh3.googleusercontent.com/-sAYH4--pR8c/AAAAAAAAAAI/AAAAAAAAAGE/I8U1zGq0AXs/s50-c-k-no/photo.jpg",
            "userId": "113479460052019485165"
          }
        }
      },
      "cell_type": "code",
      "source": [
        "checkGPU()"
      ],
      "execution_count": 14,
      "outputs": [
        {
          "output_type": "stream",
          "text": [
            "Requirement already satisfied: gputil in /usr/local/lib/python3.6/dist-packages\r\n",
            "Requirement already satisfied: numpy in /usr/local/lib/python3.6/dist-packages (from gputil)\n",
            "\u001b[33mYou are using pip version 9.0.3, however version 10.0.1 is available.\n",
            "You should consider upgrading via the 'pip install --upgrade pip' command.\u001b[0m\n",
            "Requirement already satisfied: psutil in /usr/local/lib/python3.6/dist-packages\n",
            "\u001b[33mYou are using pip version 9.0.3, however version 10.0.1 is available.\n",
            "You should consider upgrading via the 'pip install --upgrade pip' command.\u001b[0m\n",
            "Requirement already satisfied: humanize in /usr/local/lib/python3.6/dist-packages\n",
            "\u001b[33mYou are using pip version 9.0.3, however version 10.0.1 is available.\n",
            "You should consider upgrading via the 'pip install --upgrade pip' command.\u001b[0m\n",
            "Gen RAM Free: 12.9 GB  I Proc size: 151.7 MB\n",
            "GPU RAM Free: 11439MB | Used: 0MB | Util   0% | Total 11439MB\n"
          ],
          "name": "stdout"
        }
      ]
    }
  ]
}