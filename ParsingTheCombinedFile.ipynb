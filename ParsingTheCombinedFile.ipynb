{
  "nbformat": 4,
  "nbformat_minor": 0,
  "metadata": {
    "colab": {
      "name": "ParsingTheCombinedFile.ipynb",
      "version": "0.3.2",
      "provenance": [],
      "collapsed_sections": []
    },
    "kernelspec": {
      "name": "python3",
      "display_name": "Python 3"
    },
    "accelerator": "GPU"
  },
  "cells": [
    {
      "cell_type": "markdown",
      "metadata": {
        "id": "view-in-github",
        "colab_type": "text"
      },
      "source": [
        "[View in Colaboratory](https://colab.research.google.com/github/ShriPunta/Netflix-Graph-Dataset-Project/blob/master/ParsingTheCombinedFile.ipynb)"
      ]
    },
    {
      "metadata": {
        "id": "MfY3KTxwcuzj",
        "colab_type": "code",
        "colab": {}
      },
      "cell_type": "code",
      "source": [
        "!pip install -U -q PyDrive\n"
      ],
      "execution_count": 0,
      "outputs": []
    },
    {
      "metadata": {
        "id": "F5hsv8FRc6yo",
        "colab_type": "text"
      },
      "cell_type": "markdown",
      "source": [
        "**Setup all the Authentication for PyDrive**"
      ]
    },
    {
      "metadata": {
        "id": "se2OMKeGcyTB",
        "colab_type": "code",
        "colab": {}
      },
      "cell_type": "code",
      "source": [
        "import pandas as pd\n",
        "from pydrive.auth import GoogleAuth\n",
        "from pydrive.drive import GoogleDrive\n",
        "from google.colab import auth\n",
        "from oauth2client.client import GoogleCredentials\n",
        "import io\n",
        "from googleapiclient.http import MediaIoBaseDownload\n",
        "from googleapiclient.discovery import build\n"
      ],
      "execution_count": 0,
      "outputs": []
    },
    {
      "metadata": {
        "id": "82YemEDEdRGh",
        "colab_type": "code",
        "colab": {}
      },
      "cell_type": "code",
      "source": [
        "# 1. Authenticate and create the PyDrive client.\n",
        "auth.authenticate_user()\n",
        "gauth = GoogleAuth()\n",
        "gauth.credentials = GoogleCredentials.get_application_default()\n",
        "drive = GoogleDrive(gauth)\n"
      ],
      "execution_count": 0,
      "outputs": []
    },
    {
      "metadata": {
        "id": "HoWP4dWD47m3",
        "colab_type": "text"
      },
      "cell_type": "markdown",
      "source": [
        "---"
      ]
    },
    {
      "metadata": {
        "id": "CYp7ZjbubqF2",
        "colab_type": "text"
      },
      "cell_type": "markdown",
      "source": [
        "\n",
        "** *Method*: To read the contents of a local Google File**\n",
        "\n"
      ]
    },
    {
      "metadata": {
        "id": "E2xhw0Cjk1Cs",
        "colab_type": "code",
        "colab": {}
      },
      "cell_type": "code",
      "source": [
        "def read_drive_file_into_variable(file_id_to_read):\n",
        "  drive_service = build('drive', 'v3')\n",
        "  request = drive_service.files().get_media(fileId=file_id_to_read)\n",
        "  downloaded = io.BytesIO()\n",
        "  downloader = MediaIoBaseDownload(downloaded, request)\n",
        "  done = False\n",
        "  while done is False:\n",
        "    # _ is a placeholder for a progress object that we ignore.\n",
        "    # (Our file is small, so we skip reporting progress.)\n",
        "    status, done = downloader.next_chunk()\n",
        "    prog = int(status.progress() * 100)\n",
        "    print(\"Download \"+str(prog))\n",
        "  \n",
        "  #Set the pointer to the start\n",
        "  downloaded.seek(0)\n",
        "  #print('Downloaded file contents are: {}'.format(downloaded.read()))\n",
        "  \n",
        "  #Read Everthing into a variable called \"View\", its in a \"Bytes\" datatype\n",
        "  view = downloaded.read1(-1)\n",
        "  #len(view)\n",
        "  \n",
        "  #decode Bytes to String format\n",
        "  decoded = view.decode(encoding=\"utf-8\")\n",
        "  #type(decoded)\n",
        "  \n",
        "  #Convert this continous string to List for each new line\n",
        "  variable_to_set = decoded.splitlines()\n",
        "  #type(splitted)\n",
        "  \n",
        "  return variable_to_set\n",
        "  \n",
        "  "
      ],
      "execution_count": 0,
      "outputs": []
    },
    {
      "metadata": {
        "id": "Y_NHUDFt5qLm",
        "colab_type": "text"
      },
      "cell_type": "markdown",
      "source": [
        "---"
      ]
    },
    {
      "metadata": {
        "id": "Wde9XWULuQOo",
        "colab_type": "text"
      },
      "cell_type": "markdown",
      "source": [
        "**Read the main two files into variables**"
      ]
    },
    {
      "metadata": {
        "id": "l53Y5UuvlTA0",
        "colab_type": "code",
        "colab": {}
      },
      "cell_type": "code",
      "source": [
        "movie_Title_file_id = '0B8qgJkz0ynl8czBBNG9qZ2JPeW9RaWVuZktobUE1b29qaER3'\n",
        "rating_file_id = '1iABtudmoCPxcFYiYQ0cQwfcQCZtfHsHd'\n",
        "test_file_id = '11QhP0HwV7x6huJX3-JqJzGv7shMiZVPH'"
      ],
      "execution_count": 0,
      "outputs": []
    },
    {
      "metadata": {
        "id": "hauotqIq69LL",
        "colab_type": "code",
        "colab": {
          "base_uri": "https://localhost:8080/",
          "height": 34
        },
        "outputId": "c087bdc9-c76e-4583-83fb-a72716428be7"
      },
      "cell_type": "code",
      "source": [
        "key_file_list = read_drive_file_into_variable(movie_Title_file_id)\n"
      ],
      "execution_count": 6,
      "outputs": [
        {
          "output_type": "stream",
          "text": [
            "Download 100\n"
          ],
          "name": "stdout"
        }
      ]
    },
    {
      "metadata": {
        "id": "fwZbBuv66-Y6",
        "colab_type": "code",
        "colab": {
          "base_uri": "https://localhost:8080/",
          "height": 101
        },
        "outputId": "15f1ba1f-e81e-40a4-e32d-e2ce7f7f5b25"
      },
      "cell_type": "code",
      "source": [
        "rating_file_list = read_drive_file_into_variable(rating_file_id)"
      ],
      "execution_count": 7,
      "outputs": [
        {
          "output_type": "stream",
          "text": [
            "Download 21\n",
            "Download 42\n",
            "Download 63\n",
            "Download 84\n",
            "Download 100\n"
          ],
          "name": "stdout"
        }
      ]
    },
    {
      "metadata": {
        "id": "VBfmPUyH7xn8",
        "colab_type": "code",
        "colab": {}
      },
      "cell_type": "code",
      "source": [
        "#test_file_list = read_drive_file_into_variable(test_file_id)"
      ],
      "execution_count": 0,
      "outputs": []
    },
    {
      "metadata": {
        "id": "PLPYJKQ-4_ba",
        "colab_type": "text"
      },
      "cell_type": "markdown",
      "source": [
        "---"
      ]
    },
    {
      "metadata": {
        "id": "BO6_CVlAmsgT",
        "colab_type": "text"
      },
      "cell_type": "markdown",
      "source": [
        "**Convert the key file into a dataframe**"
      ]
    },
    {
      "metadata": {
        "id": "E-EXS8ZvduXq",
        "colab_type": "code",
        "colab": {}
      },
      "cell_type": "code",
      "source": [
        "#Read the key file into a Panda dataframe\n",
        "#key_file_df = pd.DataFrame([sub.split(\",\") for sub in key_file_list],columns = [\"MovieId\",\"Year\",\"Name\",\"Genre1\",\"Genre2\",\"Genre3\"])\n",
        "#key_file_df.head()"
      ],
      "execution_count": 0,
      "outputs": []
    },
    {
      "metadata": {
        "id": "K8QVL-b855fy",
        "colab_type": "text"
      },
      "cell_type": "markdown",
      "source": [
        "**Clean the dataframe**"
      ]
    },
    {
      "metadata": {
        "id": "My_tjoVRm3nJ",
        "colab_type": "code",
        "colab": {}
      },
      "cell_type": "code",
      "source": [
        "# key_file_df['Genre'] = key_file_df[['Genre1','Genre2','Genre3']].apply(lambda x: ''.join(x), axis=1)\n",
        "# key_file_df.head()\n",
        "\n",
        "def clean_the_movie_key_df(key_file_df):\n",
        "  #Combine the Genres into a single column\n",
        "  key_file_df['Genre'] = key_file_df['Genre1'] + ',' + key_file_df['Genre2'] + ','+ key_file_df['Genre3']\n",
        "\n",
        "  #Clean the column by removing double quotes\n",
        "  for i, col in enumerate(key_file_df.columns):\n",
        "      key_file_df.iloc[:,6] = key_file_df.iloc[:,6].str.replace('\"', '')\n",
        "\n",
        "  #Drop the unnecessary columns\n",
        "  key_file_df.drop(['Genre1','Genre2','Genre3'], axis=1, inplace=True)\n",
        "\n",
        "  #Set MovieId as the Index\n",
        "  key_file_df.set_index('MovieId',inplace=True)\n",
        "\n",
        "  return key_file_df\n"
      ],
      "execution_count": 0,
      "outputs": []
    },
    {
      "metadata": {
        "id": "dXL_tT4DhaEf",
        "colab_type": "code",
        "colab": {}
      },
      "cell_type": "code",
      "source": [
        "#key_file_df = clean_the_movie_key_df(key_file_df)"
      ],
      "execution_count": 0,
      "outputs": []
    },
    {
      "metadata": {
        "id": "OKJv4U0ViVrh",
        "colab_type": "code",
        "colab": {}
      },
      "cell_type": "code",
      "source": [
        "#key_file_df.head()\n",
        "  \n",
        "  "
      ],
      "execution_count": 0,
      "outputs": []
    },
    {
      "metadata": {
        "id": "opsRfxs151Ca",
        "colab_type": "text"
      },
      "cell_type": "markdown",
      "source": [
        "---"
      ]
    },
    {
      "metadata": {
        "id": "WpeP4ACi_Wui",
        "colab_type": "code",
        "colab": {}
      },
      "cell_type": "code",
      "source": [
        "def form_dict_from_list(list_to_iterate):\n",
        "  dict_with_list = dict()\n",
        "  limiter = 100\n",
        "  count = 0\n",
        "  curr_movie_id = 0\n",
        "  for ele in list_to_iterate:\n",
        "    if ele.find(':') != -1:\n",
        "      curr_movie_id = int(ele.split(':')[0])\n",
        "      count = 1\n",
        "      if dict_with_list.get(curr_movie_id) == None:\n",
        "        dict_with_list[curr_movie_id] = list()\n",
        "    else:\n",
        "      if count > limiter:\n",
        "        continue          \n",
        "      count += 1\n",
        "      curr_list = dict_with_list[curr_movie_id]\n",
        "      curr_list.append(ele)\n",
        "      dict_with_list[curr_movie_id] = curr_list\n",
        "  return dict_with_list    "
      ],
      "execution_count": 0,
      "outputs": []
    },
    {
      "metadata": {
        "id": "YvjC0ZyaBchp",
        "colab_type": "code",
        "colab": {}
      },
      "cell_type": "code",
      "source": [
        "form_the_big_map = form_dict_from_list(rating_file_list)"
      ],
      "execution_count": 0,
      "outputs": []
    },
    {
      "metadata": {
        "id": "v9rdL9auHUra",
        "colab_type": "code",
        "colab": {
          "base_uri": "https://localhost:8080/",
          "height": 34
        },
        "outputId": "a64ff6b0-55d4-4ac6-8bb0-1edc233ab1bf"
      },
      "cell_type": "code",
      "source": [
        "len(form_the_big_map.keys())"
      ],
      "execution_count": 14,
      "outputs": [
        {
          "output_type": "execute_result",
          "data": {
            "text/plain": [
              "4499"
            ]
          },
          "metadata": {
            "tags": []
          },
          "execution_count": 14
        }
      ]
    },
    {
      "metadata": {
        "id": "dw-TQ_k0FLax",
        "colab_type": "code",
        "colab": {
          "base_uri": "https://localhost:8080/",
          "height": 51
        },
        "outputId": "d6320c28-dce2-4285-cea8-ada40ee67434"
      },
      "cell_type": "code",
      "source": [
        "from sys import getsizeof\n",
        "print(\"Total number of elements -->\",len(rating_file_list),\"  Size they occupy in bytes -->\",getsizeof(rating_file_list))\n",
        "print(\"Total number of Map Keys -->\",len(form_the_big_map),\"  Size they occupy in bytes -->\",getsizeof(form_the_big_map))"
      ],
      "execution_count": 15,
      "outputs": [
        {
          "output_type": "stream",
          "text": [
            "Total number of elements --> 24058263   Size they occupy in bytes --> 209183992\n",
            "Total number of Map Keys --> 4499   Size they occupy in bytes --> 147560\n"
          ],
          "name": "stdout"
        }
      ]
    },
    {
      "metadata": {
        "id": "AhRzuJGJUihj",
        "colab_type": "code",
        "colab": {
          "base_uri": "https://localhost:8080/",
          "height": 47
        },
        "outputId": "c6c2f890-3add-4ec3-b1bb-1d16e5df11d9"
      },
      "cell_type": "code",
      "source": [
        "skele_df = pd.DataFrame(columns=[\"MovieId\",\"UserId\",\"Rating\",\"YearWatched\"])\n",
        "skele_df.head()"
      ],
      "execution_count": 24,
      "outputs": [
        {
          "output_type": "execute_result",
          "data": {
            "text/html": [
              "<div>\n",
              "<style scoped>\n",
              "    .dataframe tbody tr th:only-of-type {\n",
              "        vertical-align: middle;\n",
              "    }\n",
              "\n",
              "    .dataframe tbody tr th {\n",
              "        vertical-align: top;\n",
              "    }\n",
              "\n",
              "    .dataframe thead th {\n",
              "        text-align: right;\n",
              "    }\n",
              "</style>\n",
              "<table border=\"1\" class=\"dataframe\">\n",
              "  <thead>\n",
              "    <tr style=\"text-align: right;\">\n",
              "      <th></th>\n",
              "      <th>MovieId</th>\n",
              "      <th>UserId</th>\n",
              "      <th>Rating</th>\n",
              "      <th>YearWatched</th>\n",
              "    </tr>\n",
              "  </thead>\n",
              "  <tbody>\n",
              "  </tbody>\n",
              "</table>\n",
              "</div>"
            ],
            "text/plain": [
              "Empty DataFrame\n",
              "Columns: [MovieId, UserId, Rating, YearWatched]\n",
              "Index: []"
            ]
          },
          "metadata": {
            "tags": []
          },
          "execution_count": 24
        }
      ]
    },
    {
      "metadata": {
        "id": "cOiSIENBWygH",
        "colab_type": "code",
        "colab": {}
      },
      "cell_type": "code",
      "source": [
        "    "
      ],
      "execution_count": 0,
      "outputs": []
    },
    {
      "metadata": {
        "id": "uZW5puIzYL9n",
        "colab_type": "text"
      },
      "cell_type": "markdown",
      "source": [
        "# TO DO: Sampling is done, a map is also formed with movie id as the key and the subsequent ratings as the list; limited to 100; Need to see how to convert it to a dataframe compatible with the methods below"
      ]
    },
    {
      "metadata": {
        "id": "OavCAynQXa2t",
        "colab_type": "code",
        "colab": {
          "base_uri": "https://localhost:8080/",
          "height": 54
        },
        "outputId": "ecd56837-012a-4bfa-a7dd-af1f67e6ec3e"
      },
      "cell_type": "code",
      "source": [
        "#skele_df = fill_the_df(form_the_big_map)"
      ],
      "execution_count": 29,
      "outputs": [
        {
          "output_type": "stream",
          "text": [
            "1 ['1488844,3,2005-09-06', '822109,5,2005-05-13', '885013,4,2005-10-19', '30878,4,2005-12-26', '823519,3,2004-05-03', '893988,3,2005-11-17', '124105,4,2004-08-05', '1248029,3,2004-04-22', '1842128,4,2004-05-09', '2238063,3,2005-05-11', '1503895,4,2005-05-19', '2207774,5,2005-06-06', '2590061,3,2004-08-12', '2442,3,2004-04-14', '543865,4,2004-05-28', '1209119,4,2004-03-23', '804919,4,2004-06-10', '1086807,3,2004-12-28', '1711859,4,2005-05-08', '372233,5,2005-11-23', '1080361,3,2005-03-28', '1245640,3,2005-12-19', '558634,4,2004-12-14', '2165002,4,2004-04-06', '1181550,3,2004-02-01', '1227322,4,2004-02-06', '427928,4,2004-02-26', '814701,5,2005-09-29', '808731,4,2005-10-31', '662870,5,2005-08-24', '337541,5,2005-03-23', '786312,3,2004-11-16', '1133214,4,2004-03-07', '1537427,4,2004-03-29', '1209954,5,2005-05-09', '2381599,3,2005-09-12', '525356,2,2004-07-11', '1910569,4,2004-04-12', '2263586,4,2004-08-20', '2421815,2,2004-02-26', '1009622,1,2005-01-19', '1481961,2,2005-05-24', '401047,4,2005-06-03', '2179073,3,2004-08-29', '1434636,3,2004-05-01', '93986,5,2005-10-06', '1308744,5,2005-10-29', '2647871,4,2005-12-30', '1905581,5,2005-08-16', '2508819,3,2004-05-18', '1578279,1,2005-05-19', '1159695,4,2005-02-15', '2588432,3,2005-03-31', '2423091,3,2005-09-12', '470232,4,2004-04-08', '2148699,2,2004-06-05', '1342007,3,2004-07-16', '466135,4,2004-07-13', '2472440,3,2005-08-13', '1283744,3,2004-04-17', '1927580,4,2004-11-08', '716874,5,2005-05-06', '4326,4,2005-10-29', '1546549,5,2004-07-20', '1493697,1,2005-11-01', '880166,5,2005-07-12', '535396,2,2005-02-03', '494609,4,2004-12-08', '1961619,5,2005-06-01', '883478,4,2005-12-16', '793564,4,2004-04-19', '1567202,2,2004-03-01', '573537,4,2005-02-03', '1972040,4,2005-06-02', '1838912,3,2005-11-08', '411705,4,2004-05-11', '2244518,5,2004-09-15', '584542,5,2005-02-01', '667730,5,2005-05-26', '2488120,5,2005-09-20', '1926776,1,2005-10-05', '38052,3,2004-06-03', '1196100,4,2004-10-30', '314933,3,2005-09-12', '1792741,2,2004-02-09', '769643,1,2004-11-18', '2477242,5,2005-01-30', '1421006,3,2005-08-03', '729846,4,2005-08-09', '1719610,2,2005-08-19', '1696031,4,2005-01-25', '1817215,4,2005-09-01', '406057,4,2004-09-27', '636262,1,2005-09-26', '1245406,4,2004-12-30', '1834590,3,2005-02-05', '593225,3,2004-07-11', '1011918,4,2005-05-28', '1665054,4,2005-07-06', '2630337,5,2005-03-10']\n"
          ],
          "name": "stdout"
        }
      ]
    },
    {
      "metadata": {
        "id": "Rtt_MMsvBdtq",
        "colab_type": "text"
      },
      "cell_type": "markdown",
      "source": [
        "---"
      ]
    },
    {
      "metadata": {
        "id": "iwy5JBQSyn5k",
        "colab_type": "text"
      },
      "cell_type": "markdown",
      "source": [
        "**Convert rating File into dataframe**"
      ]
    },
    {
      "metadata": {
        "id": "d2WdF9TVy4XB",
        "colab_type": "code",
        "colab": {}
      },
      "cell_type": "code",
      "source": [
        "#Read the key file into a Panda dataframe\n",
        "test_file_df = pd.DataFrame([sub.split(\",\") for sub in rating_file_list],columns = [\"UserId\",\"Rating\",\"YearWatched\"])\n",
        "\n",
        "#Initialize a blank column called MovieId ; to be filled latter\n",
        "test_file_df[\"MovieId\"] = 0\n",
        "\n",
        "#Need memory optimization, convert the object type to numeric\n",
        "test_file_optimize[['Rating']] = test_file_df[['Rating']].apply(pd.to_numeric)\n",
        "\n",
        "test_file_df['YearWatched'] = pd.to_datetime(test_file_df['YearWatched'])\n",
        "\n",
        "#test_file_df[['YearWatched']] = test_file_df[['YearWatched']].apply(pd.to_datetime)\n",
        "#test_file_df['YearWatched'] = pd.to_datetime(test_file_df['DateWatched']).dt.year\n",
        "\n",
        "\n",
        "test_file_df['UserId'] = pd.to_numeric(test_file_df['UserId'],errors='ignore')\n",
        "\n",
        "#Applying these changes in datatypes brought memory usage from 5.4 GB to 2 GB\n",
        "test_file_df.info(memory_usage = 'deep')\n"
      ],
      "execution_count": 0,
      "outputs": []
    },
    {
      "metadata": {
        "id": "1hQAYnxH6ud1",
        "colab_type": "code",
        "colab": {}
      },
      "cell_type": "code",
      "source": [
        "test_file_df.info(memory_usage = 'deep')"
      ],
      "execution_count": 0,
      "outputs": []
    },
    {
      "metadata": {
        "id": "pZnJlJ4n9NIK",
        "colab_type": "code",
        "colab": {}
      },
      "cell_type": "code",
      "source": [
        "test_file_df.head(20)"
      ],
      "execution_count": 0,
      "outputs": []
    },
    {
      "metadata": {
        "id": "wfrIWbVNFPr_",
        "colab_type": "text"
      },
      "cell_type": "markdown",
      "source": [
        "---"
      ]
    },
    {
      "metadata": {
        "id": "TnZXJ5av4iCJ",
        "colab_type": "code",
        "colab": {}
      },
      "cell_type": "code",
      "source": [
        "test_file_df.head(20)"
      ],
      "execution_count": 0,
      "outputs": []
    },
    {
      "metadata": {
        "id": "fNaA0ToZ8qjC",
        "colab_type": "code",
        "colab": {}
      },
      "cell_type": "code",
      "source": [
        "#We will store the rows to drop in this\n",
        "rows_to_drop = []\n",
        "currentMovieId = 0\n",
        "\n",
        "#Iterate over the dataframe to split it\n",
        "for index, row in test_file_df.iterrows():\n",
        "  if row['UserId'].find(':') != -1:\n",
        "    #If entered it means that there is a colon on the row and it is a movie id\n",
        "    #row[0][0] gives the first character on that row\n",
        "    currentMovieId = int(row[0][0])\n",
        "    rows_to_drop.append(index)\n",
        "  else:\n",
        "    #print(\"Not\")\n",
        "    #Assign the movie id to the consecutive rows\n",
        "    test_file_df.iloc[index][3] = currentMovieId"
      ],
      "execution_count": 0,
      "outputs": []
    },
    {
      "metadata": {
        "id": "LjGeWxPA8qlX",
        "colab_type": "code",
        "colab": {}
      },
      "cell_type": "code",
      "source": [
        "#We get a dataframe with the movie id generated, now we need to filter out the rows\n",
        "test_file_df.head()"
      ],
      "execution_count": 0,
      "outputs": []
    },
    {
      "metadata": {
        "id": "mtXOt8a08qpw",
        "colab_type": "code",
        "colab": {}
      },
      "cell_type": "code",
      "source": [
        "#Drop the rows which had the movie Id and the columns to get a seamless dataframe\n",
        "test_file_df.drop(test_file_df.index[rows_to_drop],inplace=True)\n",
        "test_file_df.head()"
      ],
      "execution_count": 0,
      "outputs": []
    },
    {
      "metadata": {
        "id": "rlcr1aui8qr2",
        "colab_type": "code",
        "colab": {}
      },
      "cell_type": "code",
      "source": [
        "#Convert the column to datetime and keep only the year\n",
        "test_file_df['YearWatched'] = pd.to_datetime(test_file_df['DateWatched']).dt.year"
      ],
      "execution_count": 0,
      "outputs": []
    },
    {
      "metadata": {
        "id": "x-ccUk9z8quD",
        "colab_type": "code",
        "colab": {}
      },
      "cell_type": "code",
      "source": [
        "test_file_df.head()"
      ],
      "execution_count": 0,
      "outputs": []
    },
    {
      "metadata": {
        "id": "qoKX5uaD8qwQ",
        "colab_type": "code",
        "colab": {}
      },
      "cell_type": "code",
      "source": [
        ""
      ],
      "execution_count": 0,
      "outputs": []
    },
    {
      "metadata": {
        "id": "dmG_Pecy8qyQ",
        "colab_type": "code",
        "colab": {}
      },
      "cell_type": "code",
      "source": [
        ""
      ],
      "execution_count": 0,
      "outputs": []
    },
    {
      "metadata": {
        "id": "CqqdGAhy8q0c",
        "colab_type": "code",
        "colab": {}
      },
      "cell_type": "code",
      "source": [
        ""
      ],
      "execution_count": 0,
      "outputs": []
    },
    {
      "metadata": {
        "id": "nM4AsBNy6dM9",
        "colab_type": "text"
      },
      "cell_type": "markdown",
      "source": [
        "---\n",
        " ** *Method*: To see the GPU usage**"
      ]
    },
    {
      "metadata": {
        "id": "KEGfc73g0Zb0",
        "colab_type": "code",
        "colab": {}
      },
      "cell_type": "code",
      "source": [
        "def checkGPU():\n",
        "  # memory footprint support libraries/code\n",
        "  !ln -sf /opt/bin/nvidia-smi /usr/bin/nvidia-smi\n",
        "  !pip install gputil\n",
        "  !pip install psutil\n",
        "  !pip install humanize\n",
        "  import psutil\n",
        "  import humanize\n",
        "  import os\n",
        "  import GPUtil as GPU\n",
        "  GPUs = GPU.getGPUs()\n",
        "  # XXX: only one GPU on Colab and isn’t guaranteed\n",
        "  gpu = GPUs[0]\n",
        "  process = psutil.Process(os.getpid())\n",
        "  print(\"Gen RAM Free: \" + humanize.naturalsize( psutil.virtual_memory().available ), \" I Proc size: \" + humanize.naturalsize( process.memory_info().rss))\n",
        "  print(\"GPU RAM Free: {0:.0f}MB | Used: {1:.0f}MB | Util {2:3.0f}% | Total {3:.0f}MB\".format(gpu.memoryFree, gpu.memoryUsed, gpu.memoryUtil*100, gpu.memoryTotal))\n",
        "  \n"
      ],
      "execution_count": 0,
      "outputs": []
    },
    {
      "metadata": {
        "id": "7x3m84Vo6eyl",
        "colab_type": "text"
      },
      "cell_type": "markdown",
      "source": [
        "---"
      ]
    },
    {
      "metadata": {
        "id": "CF668Mtx6hVz",
        "colab_type": "code",
        "colab": {}
      },
      "cell_type": "code",
      "source": [
        "checkGPU()"
      ],
      "execution_count": 0,
      "outputs": []
    }
  ]
}