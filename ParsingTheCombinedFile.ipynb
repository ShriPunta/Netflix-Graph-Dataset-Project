{
  "nbformat": 4,
  "nbformat_minor": 0,
  "metadata": {
    "colab": {
      "name": "ParsingTheCombinedFile.ipynb",
      "version": "0.3.2",
      "provenance": [],
      "collapsed_sections": []
    },
    "kernelspec": {
      "name": "python3",
      "display_name": "Python 3"
    },
    "accelerator": "GPU"
  },
  "cells": [
    {
      "cell_type": "markdown",
      "metadata": {
        "id": "view-in-github",
        "colab_type": "text"
      },
      "source": [
        "[View in Colaboratory](https://colab.research.google.com/github/ShriPunta/Netflix-Graph-Dataset-Project/blob/master/ParsingTheCombinedFile.ipynb)"
      ]
    },
    {
      "metadata": {
        "id": "MfY3KTxwcuzj",
        "colab_type": "code",
        "colab": {}
      },
      "cell_type": "code",
      "source": [
        "!pip install -U -q PyDrive\n"
      ],
      "execution_count": 0,
      "outputs": []
    },
    {
      "metadata": {
        "id": "F5hsv8FRc6yo",
        "colab_type": "text"
      },
      "cell_type": "markdown",
      "source": [
        "**Setup all the Authentication for PyDrive**"
      ]
    },
    {
      "metadata": {
        "id": "se2OMKeGcyTB",
        "colab_type": "code",
        "colab": {}
      },
      "cell_type": "code",
      "source": [
        "import pandas as pd\n",
        "from pydrive.auth import GoogleAuth\n",
        "from pydrive.drive import GoogleDrive\n",
        "from google.colab import auth\n",
        "from oauth2client.client import GoogleCredentials\n",
        "import io\n",
        "from googleapiclient.http import MediaIoBaseDownload\n",
        "from googleapiclient.discovery import build\n",
        "import numpy as np\n",
        "\n"
      ],
      "execution_count": 0,
      "outputs": []
    },
    {
      "metadata": {
        "id": "82YemEDEdRGh",
        "colab_type": "code",
        "colab": {}
      },
      "cell_type": "code",
      "source": [
        "# 1. Authenticate and create the PyDrive client.\n",
        "auth.authenticate_user()\n",
        "gauth = GoogleAuth()\n",
        "gauth.credentials = GoogleCredentials.get_application_default()\n",
        "drive = GoogleDrive(gauth)\n"
      ],
      "execution_count": 0,
      "outputs": []
    },
    {
      "metadata": {
        "id": "HoWP4dWD47m3",
        "colab_type": "text"
      },
      "cell_type": "markdown",
      "source": [
        "---"
      ]
    },
    {
      "metadata": {
        "id": "CYp7ZjbubqF2",
        "colab_type": "text"
      },
      "cell_type": "markdown",
      "source": [
        "\n",
        "** *Method*: To read the contents of a local Google File**\n",
        "\n"
      ]
    },
    {
      "metadata": {
        "id": "E2xhw0Cjk1Cs",
        "colab_type": "code",
        "colab": {}
      },
      "cell_type": "code",
      "source": [
        "def read_drive_file_into_variable(file_id_to_read):\n",
        "  drive_service = build('drive', 'v3')\n",
        "  request = drive_service.files().get_media(fileId=file_id_to_read)\n",
        "  downloaded = io.BytesIO()\n",
        "  downloader = MediaIoBaseDownload(downloaded, request)\n",
        "  done = False\n",
        "  while done is False:\n",
        "    # _ is a placeholder for a progress object that we ignore.\n",
        "    # (Our file is small, so we skip reporting progress.)\n",
        "    status, done = downloader.next_chunk()\n",
        "    prog = int(status.progress() * 100)\n",
        "    print(\"Download \"+str(prog))\n",
        "  \n",
        "  #Set the pointer to the start\n",
        "  downloaded.seek(0)\n",
        "  #print('Downloaded file contents are: {}'.format(downloaded.read()))\n",
        "  \n",
        "  #Read Everthing into a variable called \"View\", its in a \"Bytes\" datatype\n",
        "  view = downloaded.read1(-1)\n",
        "  #len(view)\n",
        "  \n",
        "  #decode Bytes to String format\n",
        "  decoded = view.decode(encoding=\"utf-8\")\n",
        "  #type(decoded)\n",
        "  \n",
        "  #Convert this continous string to List for each new line\n",
        "  variable_to_set = decoded.splitlines()\n",
        "  #type(splitted)\n",
        "  \n",
        "  return variable_to_set\n",
        "  \n",
        "  "
      ],
      "execution_count": 0,
      "outputs": []
    },
    {
      "metadata": {
        "id": "Y_NHUDFt5qLm",
        "colab_type": "text"
      },
      "cell_type": "markdown",
      "source": [
        "---"
      ]
    },
    {
      "metadata": {
        "id": "Wde9XWULuQOo",
        "colab_type": "text"
      },
      "cell_type": "markdown",
      "source": [
        "**Read the main two files into variables**"
      ]
    },
    {
      "metadata": {
        "id": "l53Y5UuvlTA0",
        "colab_type": "code",
        "colab": {}
      },
      "cell_type": "code",
      "source": [
        "movie_Title_file_id = '0B8qgJkz0ynl8czBBNG9qZ2JPeW9RaWVuZktobUE1b29qaER3'\n",
        "rating_file_id = '1iABtudmoCPxcFYiYQ0cQwfcQCZtfHsHd'\n",
        "test_file_id = '11QhP0HwV7x6huJX3-JqJzGv7shMiZVPH'"
      ],
      "execution_count": 0,
      "outputs": []
    },
    {
      "metadata": {
        "id": "hauotqIq69LL",
        "colab_type": "code",
        "colab": {
          "base_uri": "https://localhost:8080/",
          "height": 34
        },
        "outputId": "e483c666-5886-4250-9a57-55cd61e90312"
      },
      "cell_type": "code",
      "source": [
        "key_file_list = read_drive_file_into_variable(movie_Title_file_id)\n"
      ],
      "execution_count": 6,
      "outputs": [
        {
          "output_type": "stream",
          "text": [
            "Download 100\n"
          ],
          "name": "stdout"
        }
      ]
    },
    {
      "metadata": {
        "id": "fwZbBuv66-Y6",
        "colab_type": "code",
        "colab": {
          "base_uri": "https://localhost:8080/",
          "height": 101
        },
        "outputId": "14c15a1e-a191-473b-fe2a-5ef08afa9d8d"
      },
      "cell_type": "code",
      "source": [
        "rating_file_list = read_drive_file_into_variable(rating_file_id)"
      ],
      "execution_count": 7,
      "outputs": [
        {
          "output_type": "stream",
          "text": [
            "Download 21\n",
            "Download 42\n",
            "Download 63\n",
            "Download 84\n",
            "Download 100\n"
          ],
          "name": "stdout"
        }
      ]
    },
    {
      "metadata": {
        "id": "VBfmPUyH7xn8",
        "colab_type": "code",
        "colab": {}
      },
      "cell_type": "code",
      "source": [
        "#test_file_list = read_drive_file_into_variable(test_file_id)"
      ],
      "execution_count": 0,
      "outputs": []
    },
    {
      "metadata": {
        "id": "PLPYJKQ-4_ba",
        "colab_type": "text"
      },
      "cell_type": "markdown",
      "source": [
        "---"
      ]
    },
    {
      "metadata": {
        "id": "BO6_CVlAmsgT",
        "colab_type": "text"
      },
      "cell_type": "markdown",
      "source": [
        "**Convert the key file into a dataframe**"
      ]
    },
    {
      "metadata": {
        "id": "E-EXS8ZvduXq",
        "colab_type": "code",
        "colab": {
          "base_uri": "https://localhost:8080/",
          "height": 195
        },
        "outputId": "0688a31e-a1df-4daf-d220-cabbe2856d9a"
      },
      "cell_type": "code",
      "source": [
        "#Read the key file into a Panda dataframe\n",
        "key_file_df = pd.DataFrame([sub.split(\",\") for sub in key_file_list],columns = [\"MovieId\",\"Year\",\"Name\",\"Genre1\",\"Genre2\",\"Genre3\"])\n",
        "\n",
        "key_file_df.head()"
      ],
      "execution_count": 9,
      "outputs": [
        {
          "output_type": "execute_result",
          "data": {
            "text/html": [
              "<div>\n",
              "<style scoped>\n",
              "    .dataframe tbody tr th:only-of-type {\n",
              "        vertical-align: middle;\n",
              "    }\n",
              "\n",
              "    .dataframe tbody tr th {\n",
              "        vertical-align: top;\n",
              "    }\n",
              "\n",
              "    .dataframe thead th {\n",
              "        text-align: right;\n",
              "    }\n",
              "</style>\n",
              "<table border=\"1\" class=\"dataframe\">\n",
              "  <thead>\n",
              "    <tr style=\"text-align: right;\">\n",
              "      <th></th>\n",
              "      <th>MovieId</th>\n",
              "      <th>Year</th>\n",
              "      <th>Name</th>\n",
              "      <th>Genre1</th>\n",
              "      <th>Genre2</th>\n",
              "      <th>Genre3</th>\n",
              "    </tr>\n",
              "  </thead>\n",
              "  <tbody>\n",
              "    <tr>\n",
              "      <th>0</th>\n",
              "      <td>1</td>\n",
              "      <td>2003</td>\n",
              "      <td>Dinosaur Planet</td>\n",
              "      <td>\"Animation</td>\n",
              "      <td>Documentary</td>\n",
              "      <td>Family\"</td>\n",
              "    </tr>\n",
              "    <tr>\n",
              "      <th>1</th>\n",
              "      <td>3</td>\n",
              "      <td>1997</td>\n",
              "      <td>Character</td>\n",
              "      <td>\"Crime</td>\n",
              "      <td>Drama</td>\n",
              "      <td>Mystery\"</td>\n",
              "    </tr>\n",
              "    <tr>\n",
              "      <th>2</th>\n",
              "      <td>6</td>\n",
              "      <td>1997</td>\n",
              "      <td>Sick</td>\n",
              "      <td>Drama</td>\n",
              "      <td>None</td>\n",
              "      <td>None</td>\n",
              "    </tr>\n",
              "    <tr>\n",
              "      <th>3</th>\n",
              "      <td>7</td>\n",
              "      <td>1992</td>\n",
              "      <td>8 Man</td>\n",
              "      <td>\"Action</td>\n",
              "      <td>Sci-Fi\"</td>\n",
              "      <td>None</td>\n",
              "    </tr>\n",
              "    <tr>\n",
              "      <th>4</th>\n",
              "      <td>10</td>\n",
              "      <td>2001</td>\n",
              "      <td>Fighter</td>\n",
              "      <td>Documentary</td>\n",
              "      <td>None</td>\n",
              "      <td>None</td>\n",
              "    </tr>\n",
              "  </tbody>\n",
              "</table>\n",
              "</div>"
            ],
            "text/plain": [
              "  MovieId  Year             Name       Genre1       Genre2    Genre3\n",
              "0       1  2003  Dinosaur Planet   \"Animation  Documentary   Family\"\n",
              "1       3  1997        Character       \"Crime        Drama  Mystery\"\n",
              "2       6  1997             Sick        Drama         None      None\n",
              "3       7  1992            8 Man      \"Action      Sci-Fi\"      None\n",
              "4      10  2001          Fighter  Documentary         None      None"
            ]
          },
          "metadata": {
            "tags": []
          },
          "execution_count": 9
        }
      ]
    },
    {
      "metadata": {
        "id": "o2i-iRXssIUc",
        "colab_type": "code",
        "colab": {
          "base_uri": "https://localhost:8080/",
          "height": 202
        },
        "outputId": "572da3ef-b32d-4b31-a278-a8f8fde62b57"
      },
      "cell_type": "code",
      "source": [
        "key_file_df.info(memory_usage = 'deep')"
      ],
      "execution_count": 10,
      "outputs": [
        {
          "output_type": "stream",
          "text": [
            "<class 'pandas.core.frame.DataFrame'>\n",
            "RangeIndex: 11267 entries, 0 to 11266\n",
            "Data columns (total 6 columns):\n",
            "MovieId    11267 non-null object\n",
            "Year       11267 non-null object\n",
            "Name       11267 non-null object\n",
            "Genre1     11267 non-null object\n",
            "Genre2     8381 non-null object\n",
            "Genre3     4876 non-null object\n",
            "dtypes: object(6)\n",
            "memory usage: 3.8 MB\n"
          ],
          "name": "stdout"
        }
      ]
    },
    {
      "metadata": {
        "id": "K8QVL-b855fy",
        "colab_type": "text"
      },
      "cell_type": "markdown",
      "source": [
        "**Clean the dataframe**"
      ]
    },
    {
      "metadata": {
        "id": "My_tjoVRm3nJ",
        "colab_type": "code",
        "colab": {}
      },
      "cell_type": "code",
      "source": [
        "#key_file_df['Genre'] = key_file_df[['Genre1','Genre2','Genre3']].apply(lambda x: ''.join(x), axis=1)\n",
        "# key_file_df.head()\n",
        "\n",
        "def clean_the_movie_key_df(key_file_df):\n",
        "  #Convert NaN to blank\n",
        "  key_file_df = key_file_df.replace(np.nan, '', regex=True)\n",
        "    \n",
        "  #Combine the Genres into a single column\n",
        "  key_file_df['Genre'] = key_file_df['Genre1'] + ',' + key_file_df['Genre2'] + ','+ key_file_df['Genre3']\n",
        "\n",
        "  #Clean the column by removing double quotes; Also converts to string\n",
        "  key_file_df['Genre'] = key_file_df['Genre'].str.replace('\"', '')\n",
        "\n",
        "  #Drop the unnecessary columns\n",
        "  key_file_df.drop(['Genre1','Genre2','Genre3'], axis=1, inplace=True)\n",
        "  \n",
        "  #Convert to numeric\n",
        "  key_file_df['MovieId'] = pd.to_numeric(key_file_df['MovieId'],errors = 'coerce')\n",
        "  \n",
        "  #Convert to numeric\n",
        "  key_file_df['Year'] = pd.to_numeric(key_file_df['Year'],errors = 'coerce')\n",
        "  \n",
        "  #Convert to String\n",
        "  key_file_df['Name'] = key_file_df['Name'].astype('str')\n",
        "  \n",
        "  \n",
        "  #Set MovieId as the Index\n",
        "  key_file_df.set_index('MovieId',inplace=True)\n",
        "  \n",
        "  #Drop any rows which NaN or NULL\n",
        "  key_file_df.dropna(axis=0, how='any',inplace=True)\n",
        "\n",
        "  return key_file_df\n"
      ],
      "execution_count": 0,
      "outputs": []
    },
    {
      "metadata": {
        "id": "dXL_tT4DhaEf",
        "colab_type": "code",
        "colab": {}
      },
      "cell_type": "code",
      "source": [
        "key_file_df = clean_the_movie_key_df(key_file_df)"
      ],
      "execution_count": 0,
      "outputs": []
    },
    {
      "metadata": {
        "id": "CBFOl9sn_VL9",
        "colab_type": "code",
        "colab": {}
      },
      "cell_type": "code",
      "source": [
        ""
      ],
      "execution_count": 0,
      "outputs": []
    },
    {
      "metadata": {
        "id": "fRPwPu3Y_uKZ",
        "colab_type": "code",
        "colab": {}
      },
      "cell_type": "code",
      "source": [
        ""
      ],
      "execution_count": 0,
      "outputs": []
    },
    {
      "metadata": {
        "id": "2fWLk6Du_0mL",
        "colab_type": "code",
        "colab": {
          "base_uri": "https://localhost:8080/",
          "height": 84
        },
        "outputId": "6c5df767-8641-4a24-c452-4f45c4b475ca"
      },
      "cell_type": "code",
      "source": [
        "#Gives detailing on how many null or na there are\n",
        "key_file_df.isnull().sum()"
      ],
      "execution_count": 13,
      "outputs": [
        {
          "output_type": "execute_result",
          "data": {
            "text/plain": [
              "Year     0\n",
              "Name     0\n",
              "Genre    0\n",
              "dtype: int64"
            ]
          },
          "metadata": {
            "tags": []
          },
          "execution_count": 13
        }
      ]
    },
    {
      "metadata": {
        "id": "p4Qhf6g2kyE1",
        "colab_type": "code",
        "colab": {
          "base_uri": "https://localhost:8080/",
          "height": 151
        },
        "outputId": "46d679c0-d988-4dd2-e677-9e6042cdfc0b"
      },
      "cell_type": "code",
      "source": [
        "key_file_df.info(memory_usage='deep')"
      ],
      "execution_count": 14,
      "outputs": [
        {
          "output_type": "stream",
          "text": [
            "<class 'pandas.core.frame.DataFrame'>\n",
            "Int64Index: 11265 entries, 1 to 17770\n",
            "Data columns (total 3 columns):\n",
            "Year     11265 non-null float64\n",
            "Name     11265 non-null object\n",
            "Genre    11265 non-null object\n",
            "dtypes: float64(1), object(2)\n",
            "memory usage: 1.7 MB\n"
          ],
          "name": "stdout"
        }
      ]
    },
    {
      "metadata": {
        "id": "-Qei-rqObwld",
        "colab_type": "text"
      },
      "cell_type": "markdown",
      "source": [
        "** We store the index(which are the movie Ids) as a list; to be used as a reference later**"
      ]
    },
    {
      "metadata": {
        "id": "oN1iebJG2m4C",
        "colab_type": "code",
        "colab": {
          "base_uri": "https://localhost:8080/",
          "height": 34
        },
        "outputId": "977a2691-2c2b-4e62-fa79-5cd60dad909e"
      },
      "cell_type": "code",
      "source": [
        "key_movie_values = key_file_df.index.values\n",
        "key_movie_values\n"
      ],
      "execution_count": 15,
      "outputs": [
        {
          "output_type": "execute_result",
          "data": {
            "text/plain": [
              "array([    1,     3,     6, ..., 17768, 17769, 17770])"
            ]
          },
          "metadata": {
            "tags": []
          },
          "execution_count": 15
        }
      ]
    },
    {
      "metadata": {
        "id": "opsRfxs151Ca",
        "colab_type": "text"
      },
      "cell_type": "markdown",
      "source": [
        "---"
      ]
    },
    {
      "metadata": {
        "id": "qdzz8dT0cDjS",
        "colab_type": "text"
      },
      "cell_type": "markdown",
      "source": [
        "**---> PARSNG and SAMPLING <---**\n",
        "\n",
        "**SAMPLING  : It takes the 23 million ratings, and only keeps limited number of ratings per movie (This is controlled by the 'limiter' variable).**\n",
        "\n",
        "**We only want values whose genre we have, hence we weed out those movies, who are not present in the movie_Title_file**\n",
        "\n",
        "**----**\n",
        "  \n",
        "**PARSING :  It also adds a comma separated value of the movie id to the tuple. (It is split later to create a dataframe).**"
      ]
    },
    {
      "metadata": {
        "id": "WpeP4ACi_Wui",
        "colab_type": "code",
        "colab": {}
      },
      "cell_type": "code",
      "source": [
        "def do_sampling(list_to_iterate):\n",
        "  flag=True\n",
        "  #Limiter variable\n",
        "  limiter = 100\n",
        "  count = 0\n",
        "  #variable to be returned\n",
        "  refined_list = []\n",
        "  key_to_search = 0\n",
        "  movieId_to_search=''\n",
        "  for ele in list_to_iterate:\n",
        "    #If the element has a ':' then its a movie id\n",
        "    if ele.find(':') != -1:\n",
        "      count = 1\n",
        "      #we will remove the ':' from the tuple\n",
        "      #This is done as we can then successfully apply the pd.to_numeric method to drastically reduce the dataframe size\n",
        "      movieId_to_search = ele.replace(':','')\n",
        "      #We want only those movies which are present in the movie_Title_file\n",
        "      \n",
        "      if movieId_to_search in key_movie_values:\n",
        "        print('found')\n",
        "        #If this movie is present, set flag as true\n",
        "        flag = True\n",
        "        refined_list.append(movieId_to_search)\n",
        "      else:\n",
        "        flag = False\n",
        "    else:\n",
        "      #If the flag is false(i.e. movie not found) or if the count more than the limit; SKIP the record\n",
        "      if count > limiter or flag is False:\n",
        "        continue\n",
        "      #Add a comma separated value of the movieId to split and form a column later\n",
        "      ele += ',' +str(movieId_to_search)\n",
        "      \n",
        "      refined_list.append(ele)\n",
        "      \n",
        "      count+=1\n",
        "  return refined_list"
      ],
      "execution_count": 0,
      "outputs": []
    },
    {
      "metadata": {
        "id": "AgqW-cc2TJR4",
        "colab_type": "code",
        "colab": {}
      },
      "cell_type": "code",
      "source": [
        "def do_sampling1(list_to_iterate):\n",
        "  flag=True\n",
        "  limiter = 100\n",
        "  count = 0\n",
        "  refined_list = []\n",
        "  key_to_search = 0\n",
        "  for ele in list_to_iterate:\n",
        "    if ele.find(':') != -1:\n",
        "      count = 1\n",
        "      key_to_search = (ele.split(':'))[0]\n",
        "      if int(key_to_search) in key_movie_values:\n",
        "        flag = True\n",
        "      else:\n",
        "        flag = False\n",
        "    else:\n",
        "      if count > limiter or flag is False:\n",
        "        continue\n",
        "      refined_list.append(ele+','+ str(key_to_search))\n",
        "      count+=1\n",
        "  return refined_list"
      ],
      "execution_count": 0,
      "outputs": []
    },
    {
      "metadata": {
        "id": "YvjC0ZyaBchp",
        "colab_type": "code",
        "colab": {}
      },
      "cell_type": "code",
      "source": [
        "refined_list = do_sampling1(rating_file_list)\n"
      ],
      "execution_count": 0,
      "outputs": []
    },
    {
      "metadata": {
        "id": "zGaNXLEOfypn",
        "colab_type": "text"
      },
      "cell_type": "markdown",
      "source": [
        "---\n",
        "**Get a judgement of the size of the earlier list and size after sampling**\n"
      ]
    },
    {
      "metadata": {
        "id": "dw-TQ_k0FLax",
        "colab_type": "code",
        "colab": {
          "base_uri": "https://localhost:8080/",
          "height": 51
        },
        "outputId": "e7035cde-ec12-4401-d66c-968ca06663f0"
      },
      "cell_type": "code",
      "source": [
        "from sys import getsizeof\n",
        "#print(\"Total number of elements -->\",len(rating_file_list),\"  Size they occupy in bytes -->\",getsizeof(rating_file_list))\n",
        "\n",
        "print(\"Total number of Elements in rating_file_list list -->\",len(rating_file_list),\"  Size they occupy in bytes -->\",getsizeof(rating_file_list))\n",
        "print(\"Total number of Elements in refined_list list -->\",len(refined_list),\"  Size they occupy in bytes -->\",getsizeof(refined_list))"
      ],
      "execution_count": 51,
      "outputs": [
        {
          "output_type": "stream",
          "text": [
            "Total number of Elements in rating_file_list list --> 24058263   Size they occupy in bytes --> 209183992\n",
            "Total number of Elements in refined_list list --> 277420   Size they occupy in bytes --> 2380488\n"
          ],
          "name": "stdout"
        }
      ]
    },
    {
      "metadata": {
        "id": "Rtt_MMsvBdtq",
        "colab_type": "text"
      },
      "cell_type": "markdown",
      "source": [
        "---"
      ]
    },
    {
      "metadata": {
        "id": "iwy5JBQSyn5k",
        "colab_type": "text"
      },
      "cell_type": "markdown",
      "source": [
        "**Convert rating File into dataframe**"
      ]
    },
    {
      "metadata": {
        "id": "d2WdF9TVy4XB",
        "colab_type": "code",
        "colab": {
          "base_uri": "https://localhost:8080/",
          "height": 168
        },
        "outputId": "aac5c46b-2f77-4aa6-f077-94cec27ada18"
      },
      "cell_type": "code",
      "source": [
        "#Read the key file into a Panda dataframe\n",
        "test_file_df = pd.DataFrame([sub.split(\",\") for sub in refined_list],columns = [\"UserId\",\"Rating\",\"YearWatched\",\"MovieId\"])\n",
        "\n",
        "#Initialize a blank column called MovieId ; to be filled latter\n",
        "test_file_df[['MovieId']] = test_file_df[['MovieId']].apply(pd.to_numeric)\n",
        "\n",
        "#Need memory optimization, convert the object type to numeric\n",
        "test_file_df[['UserId']] = test_file_df[['UserId']].apply(pd.to_numeric)\n",
        "\n",
        "#Need memory optimization, convert the object type to numeric\n",
        "test_file_df[['Rating']] = test_file_df[['Rating']].apply(pd.to_numeric)\n",
        "\n",
        "#Convert the column to datetime and keep only the year\n",
        "test_file_df['YearWatched'] = pd.to_datetime(test_file_df['YearWatched']).dt.year\n",
        "\n",
        "#Need memory optimization, convert the object type to numeric\n",
        "test_file_df['UserId'] = pd.to_numeric(test_file_df['UserId'],errors='ignore')\n",
        "\n",
        "\n",
        "\n",
        "#Applying these changes in datatypes brought memory usage from 5.4 GB to 2 GB\n",
        "test_file_df.info(memory_usage = 'deep')\n"
      ],
      "execution_count": 52,
      "outputs": [
        {
          "output_type": "stream",
          "text": [
            "<class 'pandas.core.frame.DataFrame'>\n",
            "RangeIndex: 277420 entries, 0 to 277419\n",
            "Data columns (total 4 columns):\n",
            "UserId         277420 non-null int64\n",
            "Rating         277420 non-null int64\n",
            "YearWatched    277420 non-null int64\n",
            "MovieId        277420 non-null int64\n",
            "dtypes: int64(4)\n",
            "memory usage: 8.5 MB\n"
          ],
          "name": "stdout"
        }
      ]
    },
    {
      "metadata": {
        "id": "1S3P-_LKvX_J",
        "colab_type": "text"
      },
      "cell_type": "markdown",
      "source": [
        "\n",
        "\n",
        "---\n",
        "\n",
        "**BELOW 2 blocks have been deemed deprecated due to this statement**"
      ]
    },
    {
      "metadata": {
        "id": "W9YGhC20voIX",
        "colab_type": "code",
        "colab": {}
      },
      "cell_type": "code",
      "source": [
        "#Drop any rows which NaN or NULL\n",
        "test_file_df.dropna(axis=0, how='any',inplace=True,thresh = 2)\n"
      ],
      "execution_count": 0,
      "outputs": []
    },
    {
      "metadata": {
        "id": "kTODJAuXBBi0",
        "colab_type": "code",
        "colab": {
          "base_uri": "https://localhost:8080/",
          "height": 107
        },
        "outputId": "b97df67e-fde7-4244-d221-1bd059802cde"
      },
      "cell_type": "code",
      "source": [
        "test_file_df.head(2)"
      ],
      "execution_count": 54,
      "outputs": [
        {
          "output_type": "execute_result",
          "data": {
            "text/html": [
              "<div>\n",
              "<style scoped>\n",
              "    .dataframe tbody tr th:only-of-type {\n",
              "        vertical-align: middle;\n",
              "    }\n",
              "\n",
              "    .dataframe tbody tr th {\n",
              "        vertical-align: top;\n",
              "    }\n",
              "\n",
              "    .dataframe thead th {\n",
              "        text-align: right;\n",
              "    }\n",
              "</style>\n",
              "<table border=\"1\" class=\"dataframe\">\n",
              "  <thead>\n",
              "    <tr style=\"text-align: right;\">\n",
              "      <th></th>\n",
              "      <th>UserId</th>\n",
              "      <th>Rating</th>\n",
              "      <th>YearWatched</th>\n",
              "      <th>MovieId</th>\n",
              "    </tr>\n",
              "  </thead>\n",
              "  <tbody>\n",
              "    <tr>\n",
              "      <th>0</th>\n",
              "      <td>1488844</td>\n",
              "      <td>3</td>\n",
              "      <td>2005</td>\n",
              "      <td>1</td>\n",
              "    </tr>\n",
              "    <tr>\n",
              "      <th>1</th>\n",
              "      <td>822109</td>\n",
              "      <td>5</td>\n",
              "      <td>2005</td>\n",
              "      <td>1</td>\n",
              "    </tr>\n",
              "  </tbody>\n",
              "</table>\n",
              "</div>"
            ],
            "text/plain": [
              "    UserId  Rating  YearWatched  MovieId\n",
              "0  1488844       3         2005        1\n",
              "1   822109       5         2005        1"
            ]
          },
          "metadata": {
            "tags": []
          },
          "execution_count": 54
        }
      ]
    },
    {
      "metadata": {
        "id": "hmvqXoW0vYYF",
        "colab_type": "text"
      },
      "cell_type": "markdown",
      "source": [
        "\n",
        "\n",
        "---\n",
        "\n"
      ]
    },
    {
      "metadata": {
        "id": "wodMLOJ71N8t",
        "colab_type": "text"
      },
      "cell_type": "markdown",
      "source": [
        "\n",
        "\n",
        "---\n",
        "\n"
      ]
    },
    {
      "metadata": {
        "id": "C-fqEv2XWxqG",
        "colab_type": "code",
        "colab": {
          "base_uri": "https://localhost:8080/",
          "height": 118
        },
        "outputId": "d386de0e-e3a1-4cb8-fd36-ea1ca334328e"
      },
      "cell_type": "code",
      "source": [
        "#Create a matrix which is the same size of test_file_df matrix, but instead has True/False about which if the value is NaN\n",
        "the_NaN_matrix = test_file_df.isnull().sum()\n",
        "the_NaN_matrix"
      ],
      "execution_count": 63,
      "outputs": [
        {
          "output_type": "execute_result",
          "data": {
            "text/plain": [
              "UserId         0\n",
              "Rating         0\n",
              "YearWatched    0\n",
              "MovieId        0\n",
              "Genre          0\n",
              "dtype: int64"
            ]
          },
          "metadata": {
            "tags": []
          },
          "execution_count": 63
        }
      ]
    },
    {
      "metadata": {
        "id": "4BCjU0aIZR01",
        "colab_type": "code",
        "colab": {}
      },
      "cell_type": "code",
      "source": [
        "#Ultra fast method to get the indexes of the rows we need to drop; Reduces time from a minute to a second\n",
        "#For records which only had the movie id and nothing else, will have NaN for columns other than the first column\n",
        "#fancy_list = test_file_df[the_NaN_matrix['Rating'] == True].index.values\n",
        "\n"
      ],
      "execution_count": 0,
      "outputs": []
    },
    {
      "metadata": {
        "id": "cwCM-TtfArBp",
        "colab_type": "code",
        "colab": {}
      },
      "cell_type": "code",
      "source": [
        "#type(fancy_list[2])"
      ],
      "execution_count": 0,
      "outputs": []
    },
    {
      "metadata": {
        "id": "wfrIWbVNFPr_",
        "colab_type": "text"
      },
      "cell_type": "markdown",
      "source": [
        "---\n",
        "**This below block is deprecated, due to the faster and optimized ways.**"
      ]
    },
    {
      "metadata": {
        "id": "fNaA0ToZ8qjC",
        "colab_type": "code",
        "colab": {}
      },
      "cell_type": "code",
      "source": [
        "# #We will store the rows to drop in this\n",
        "# rows_to_drop = []\n",
        "# currentMovieId = 0\n",
        "# list_movieId = []\n",
        "\n",
        "\n",
        "# #Iterate over the dataframe to split it\n",
        "# for index, row in test_file_df.iterrows():\n",
        "#   if the_NaN_matrix.iloc[index,2]:\n",
        "#     #If entered it means that there is a colon on the row and it is a movie id\n",
        "#     #row gives the first character on that row\n",
        "#     #currentMovieId = row['UserId']\n",
        "#     rows_to_drop.append(index)\n",
        "#   else:\n",
        "#     list_movieId.append(currentMovieId)\n",
        "#     #print(\"Not\")\n",
        "#     #Assign the movie id to the consecutive rows\n",
        "#     #test_file_df.iloc[index,3] = currentMovieId\n",
        "\n",
        "# #Create a series object from the list\n",
        "# #MovieIdSeries = pd.Series(list_movieId)  "
      ],
      "execution_count": 0,
      "outputs": []
    },
    {
      "metadata": {
        "id": "hRGTQCNogdNu",
        "colab_type": "text"
      },
      "cell_type": "markdown",
      "source": [
        "\n",
        "\n",
        "---\n",
        "\n"
      ]
    },
    {
      "metadata": {
        "id": "9ejn_If9ZDCQ",
        "colab_type": "code",
        "colab": {}
      },
      "cell_type": "code",
      "source": [
        "#Drop the rows which had the movie Id and the columns to get a seamless dataframe\n",
        "#test_file_df.drop(test_file_df.index[fancy_list],inplace=True)\n"
      ],
      "execution_count": 0,
      "outputs": []
    },
    {
      "metadata": {
        "id": "bl4jexwJviN-",
        "colab_type": "text"
      },
      "cell_type": "markdown",
      "source": [
        "\n",
        "\n",
        "---\n",
        "\n"
      ]
    },
    {
      "metadata": {
        "id": "wPFakwQkvi3e",
        "colab_type": "text"
      },
      "cell_type": "markdown",
      "source": [
        "\n",
        "\n",
        "---\n",
        "\n"
      ]
    },
    {
      "metadata": {
        "id": "LjGeWxPA8qlX",
        "colab_type": "code",
        "colab": {}
      },
      "cell_type": "code",
      "source": [
        "test_file_df['Genre'] = ''\n",
        "\n",
        "\n",
        "#Copy the Genre Column from key file pandas dataframe\n",
        "test_file_df['Genre'] = test_file_df['MovieId'].map(key_file_df['Genre'])"
      ],
      "execution_count": 0,
      "outputs": []
    },
    {
      "metadata": {
        "id": "qoKX5uaD8qwQ",
        "colab_type": "code",
        "colab": {
          "base_uri": "https://localhost:8080/",
          "height": 639
        },
        "outputId": "32d10713-74d7-4d38-f169-fc37931af504"
      },
      "cell_type": "code",
      "source": [
        "test_file_df.head(20)"
      ],
      "execution_count": 59,
      "outputs": [
        {
          "output_type": "execute_result",
          "data": {
            "text/html": [
              "<div>\n",
              "<style scoped>\n",
              "    .dataframe tbody tr th:only-of-type {\n",
              "        vertical-align: middle;\n",
              "    }\n",
              "\n",
              "    .dataframe tbody tr th {\n",
              "        vertical-align: top;\n",
              "    }\n",
              "\n",
              "    .dataframe thead th {\n",
              "        text-align: right;\n",
              "    }\n",
              "</style>\n",
              "<table border=\"1\" class=\"dataframe\">\n",
              "  <thead>\n",
              "    <tr style=\"text-align: right;\">\n",
              "      <th></th>\n",
              "      <th>UserId</th>\n",
              "      <th>Rating</th>\n",
              "      <th>YearWatched</th>\n",
              "      <th>MovieId</th>\n",
              "      <th>Genre</th>\n",
              "    </tr>\n",
              "  </thead>\n",
              "  <tbody>\n",
              "    <tr>\n",
              "      <th>0</th>\n",
              "      <td>1488844</td>\n",
              "      <td>3</td>\n",
              "      <td>2005</td>\n",
              "      <td>1</td>\n",
              "      <td>Animation,Documentary,Family</td>\n",
              "    </tr>\n",
              "    <tr>\n",
              "      <th>1</th>\n",
              "      <td>822109</td>\n",
              "      <td>5</td>\n",
              "      <td>2005</td>\n",
              "      <td>1</td>\n",
              "      <td>Animation,Documentary,Family</td>\n",
              "    </tr>\n",
              "    <tr>\n",
              "      <th>2</th>\n",
              "      <td>885013</td>\n",
              "      <td>4</td>\n",
              "      <td>2005</td>\n",
              "      <td>1</td>\n",
              "      <td>Animation,Documentary,Family</td>\n",
              "    </tr>\n",
              "    <tr>\n",
              "      <th>3</th>\n",
              "      <td>30878</td>\n",
              "      <td>4</td>\n",
              "      <td>2005</td>\n",
              "      <td>1</td>\n",
              "      <td>Animation,Documentary,Family</td>\n",
              "    </tr>\n",
              "    <tr>\n",
              "      <th>4</th>\n",
              "      <td>823519</td>\n",
              "      <td>3</td>\n",
              "      <td>2004</td>\n",
              "      <td>1</td>\n",
              "      <td>Animation,Documentary,Family</td>\n",
              "    </tr>\n",
              "    <tr>\n",
              "      <th>5</th>\n",
              "      <td>893988</td>\n",
              "      <td>3</td>\n",
              "      <td>2005</td>\n",
              "      <td>1</td>\n",
              "      <td>Animation,Documentary,Family</td>\n",
              "    </tr>\n",
              "    <tr>\n",
              "      <th>6</th>\n",
              "      <td>124105</td>\n",
              "      <td>4</td>\n",
              "      <td>2004</td>\n",
              "      <td>1</td>\n",
              "      <td>Animation,Documentary,Family</td>\n",
              "    </tr>\n",
              "    <tr>\n",
              "      <th>7</th>\n",
              "      <td>1248029</td>\n",
              "      <td>3</td>\n",
              "      <td>2004</td>\n",
              "      <td>1</td>\n",
              "      <td>Animation,Documentary,Family</td>\n",
              "    </tr>\n",
              "    <tr>\n",
              "      <th>8</th>\n",
              "      <td>1842128</td>\n",
              "      <td>4</td>\n",
              "      <td>2004</td>\n",
              "      <td>1</td>\n",
              "      <td>Animation,Documentary,Family</td>\n",
              "    </tr>\n",
              "    <tr>\n",
              "      <th>9</th>\n",
              "      <td>2238063</td>\n",
              "      <td>3</td>\n",
              "      <td>2005</td>\n",
              "      <td>1</td>\n",
              "      <td>Animation,Documentary,Family</td>\n",
              "    </tr>\n",
              "    <tr>\n",
              "      <th>10</th>\n",
              "      <td>1503895</td>\n",
              "      <td>4</td>\n",
              "      <td>2005</td>\n",
              "      <td>1</td>\n",
              "      <td>Animation,Documentary,Family</td>\n",
              "    </tr>\n",
              "    <tr>\n",
              "      <th>11</th>\n",
              "      <td>2207774</td>\n",
              "      <td>5</td>\n",
              "      <td>2005</td>\n",
              "      <td>1</td>\n",
              "      <td>Animation,Documentary,Family</td>\n",
              "    </tr>\n",
              "    <tr>\n",
              "      <th>12</th>\n",
              "      <td>2590061</td>\n",
              "      <td>3</td>\n",
              "      <td>2004</td>\n",
              "      <td>1</td>\n",
              "      <td>Animation,Documentary,Family</td>\n",
              "    </tr>\n",
              "    <tr>\n",
              "      <th>13</th>\n",
              "      <td>2442</td>\n",
              "      <td>3</td>\n",
              "      <td>2004</td>\n",
              "      <td>1</td>\n",
              "      <td>Animation,Documentary,Family</td>\n",
              "    </tr>\n",
              "    <tr>\n",
              "      <th>14</th>\n",
              "      <td>543865</td>\n",
              "      <td>4</td>\n",
              "      <td>2004</td>\n",
              "      <td>1</td>\n",
              "      <td>Animation,Documentary,Family</td>\n",
              "    </tr>\n",
              "    <tr>\n",
              "      <th>15</th>\n",
              "      <td>1209119</td>\n",
              "      <td>4</td>\n",
              "      <td>2004</td>\n",
              "      <td>1</td>\n",
              "      <td>Animation,Documentary,Family</td>\n",
              "    </tr>\n",
              "    <tr>\n",
              "      <th>16</th>\n",
              "      <td>804919</td>\n",
              "      <td>4</td>\n",
              "      <td>2004</td>\n",
              "      <td>1</td>\n",
              "      <td>Animation,Documentary,Family</td>\n",
              "    </tr>\n",
              "    <tr>\n",
              "      <th>17</th>\n",
              "      <td>1086807</td>\n",
              "      <td>3</td>\n",
              "      <td>2004</td>\n",
              "      <td>1</td>\n",
              "      <td>Animation,Documentary,Family</td>\n",
              "    </tr>\n",
              "    <tr>\n",
              "      <th>18</th>\n",
              "      <td>1711859</td>\n",
              "      <td>4</td>\n",
              "      <td>2005</td>\n",
              "      <td>1</td>\n",
              "      <td>Animation,Documentary,Family</td>\n",
              "    </tr>\n",
              "    <tr>\n",
              "      <th>19</th>\n",
              "      <td>372233</td>\n",
              "      <td>5</td>\n",
              "      <td>2005</td>\n",
              "      <td>1</td>\n",
              "      <td>Animation,Documentary,Family</td>\n",
              "    </tr>\n",
              "  </tbody>\n",
              "</table>\n",
              "</div>"
            ],
            "text/plain": [
              "     UserId  Rating  YearWatched  MovieId                         Genre\n",
              "0   1488844       3         2005        1  Animation,Documentary,Family\n",
              "1    822109       5         2005        1  Animation,Documentary,Family\n",
              "2    885013       4         2005        1  Animation,Documentary,Family\n",
              "3     30878       4         2005        1  Animation,Documentary,Family\n",
              "4    823519       3         2004        1  Animation,Documentary,Family\n",
              "5    893988       3         2005        1  Animation,Documentary,Family\n",
              "6    124105       4         2004        1  Animation,Documentary,Family\n",
              "7   1248029       3         2004        1  Animation,Documentary,Family\n",
              "8   1842128       4         2004        1  Animation,Documentary,Family\n",
              "9   2238063       3         2005        1  Animation,Documentary,Family\n",
              "10  1503895       4         2005        1  Animation,Documentary,Family\n",
              "11  2207774       5         2005        1  Animation,Documentary,Family\n",
              "12  2590061       3         2004        1  Animation,Documentary,Family\n",
              "13     2442       3         2004        1  Animation,Documentary,Family\n",
              "14   543865       4         2004        1  Animation,Documentary,Family\n",
              "15  1209119       4         2004        1  Animation,Documentary,Family\n",
              "16   804919       4         2004        1  Animation,Documentary,Family\n",
              "17  1086807       3         2004        1  Animation,Documentary,Family\n",
              "18  1711859       4         2005        1  Animation,Documentary,Family\n",
              "19   372233       5         2005        1  Animation,Documentary,Family"
            ]
          },
          "metadata": {
            "tags": []
          },
          "execution_count": 59
        }
      ]
    },
    {
      "metadata": {
        "id": "dmG_Pecy8qyQ",
        "colab_type": "code",
        "colab": {}
      },
      "cell_type": "code",
      "source": [
        ""
      ],
      "execution_count": 0,
      "outputs": []
    },
    {
      "metadata": {
        "id": "CqqdGAhy8q0c",
        "colab_type": "code",
        "colab": {}
      },
      "cell_type": "code",
      "source": [
        ""
      ],
      "execution_count": 0,
      "outputs": []
    },
    {
      "metadata": {
        "id": "nM4AsBNy6dM9",
        "colab_type": "text"
      },
      "cell_type": "markdown",
      "source": [
        "---\n",
        " ** *Method*: To see the GPU usage**"
      ]
    },
    {
      "metadata": {
        "id": "KEGfc73g0Zb0",
        "colab_type": "code",
        "colab": {}
      },
      "cell_type": "code",
      "source": [
        "def checkGPU():\n",
        "  # memory footprint support libraries/code\n",
        "  !ln -sf /opt/bin/nvidia-smi /usr/bin/nvidia-smi\n",
        "  !pip install gputil\n",
        "  !pip install psutil\n",
        "  !pip install humanize\n",
        "  import psutil\n",
        "  import humanize\n",
        "  import os\n",
        "  import GPUtil as GPU\n",
        "  GPUs = GPU.getGPUs()\n",
        "  # XXX: only one GPU on Colab and isn’t guaranteed\n",
        "  gpu = GPUs[0]\n",
        "  process = psutil.Process(os.getpid())\n",
        "  print(\"Gen RAM Free: \" + humanize.naturalsize( psutil.virtual_memory().available ), \" I Proc size: \" + humanize.naturalsize( process.memory_info().rss))\n",
        "  print(\"GPU RAM Free: {0:.0f}MB | Used: {1:.0f}MB | Util {2:3.0f}% | Total {3:.0f}MB\".format(gpu.memoryFree, gpu.memoryUsed, gpu.memoryUtil*100, gpu.memoryTotal))\n",
        "  \n"
      ],
      "execution_count": 0,
      "outputs": []
    },
    {
      "metadata": {
        "id": "7x3m84Vo6eyl",
        "colab_type": "text"
      },
      "cell_type": "markdown",
      "source": [
        "---"
      ]
    },
    {
      "metadata": {
        "id": "CF668Mtx6hVz",
        "colab_type": "code",
        "colab": {
          "base_uri": "https://localhost:8080/",
          "height": 168
        },
        "outputId": "58120234-9857-4c09-853c-7a458556cf02"
      },
      "cell_type": "code",
      "source": [
        "checkGPU()"
      ],
      "execution_count": 61,
      "outputs": [
        {
          "output_type": "stream",
          "text": [
            "Looking in indexes: https://pypi.org/simple, https://legacy.pypi.org/simple\r\n",
            "Requirement already satisfied: gputil in /usr/local/lib/python3.6/dist-packages (1.3.0)\r\n",
            "Requirement already satisfied: numpy in /usr/local/lib/python3.6/dist-packages (from gputil) (1.14.2)\n",
            "Looking in indexes: https://pypi.org/simple, https://legacy.pypi.org/simple\n",
            "Requirement already satisfied: psutil in /usr/local/lib/python3.6/dist-packages (5.4.5)\n",
            "Looking in indexes: https://pypi.org/simple, https://legacy.pypi.org/simple\n",
            "Requirement already satisfied: humanize in /usr/local/lib/python3.6/dist-packages (0.5.1)\n",
            "Gen RAM Free: 8.7 GB  I Proc size: 4.2 GB\n",
            "GPU RAM Free: 11439MB | Used: 0MB | Util   0% | Total 11439MB\n"
          ],
          "name": "stdout"
        }
      ]
    }
  ]
}